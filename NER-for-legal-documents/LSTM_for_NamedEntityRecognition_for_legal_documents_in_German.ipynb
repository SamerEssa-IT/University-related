{
 "cells": [
  {
   "cell_type": "code",
   "execution_count": 1,
   "metadata": {},
   "outputs": [],
   "source": [
    "#Import Liabraries\n",
    "import pandas as pd\n",
    "from collections import defaultdict, Counter\n",
    "import os\n",
    "from itertools import chain\n",
    "import sklearn.preprocessing as skp\n",
    "from sklearn.model_selection import train_test_split\n",
    "from sklearn.model_selection import StratifiedKFold\n",
    "import conll_utils\n",
    "import time\n",
    "from preprocessing_utils import SequenceEncoder\n",
    "import matplotlib.pyplot as plt\n",
    "import numpy as np\n",
    "import matplotlit_utils\n",
    "from sklearn.model_selection import train_test_split"
   ]
  },
  {
   "cell_type": "code",
   "execution_count": 2,
   "metadata": {},
   "outputs": [
    {
     "name": "stdout",
     "output_type": "stream",
     "text": [
      "Wall time: 33 s\n"
     ]
    }
   ],
   "source": [
    "%%time\n",
    "dataset = conll_utils.from_dir('.../dataset_courts')"
   ]
  },
  {
   "cell_type": "markdown",
   "metadata": {},
   "source": [
    "#### add  column ' sentences ' to the data frame"
   ]
  },
  {
   "cell_type": "code",
   "execution_count": 3,
   "metadata": {},
   "outputs": [],
   "source": [
    "pred = dataset['predictors']\n",
    "sentences = []\n",
    "for sen in range(len(pred)):\n",
    "    sentences.append(\"sentence {}\".format(sen+1))\n",
    "sentences\n",
    "dataset.insert(0, \"Sentences\", sentences, True) "
   ]
  },
  {
   "cell_type": "code",
   "execution_count": 4,
   "metadata": {},
   "outputs": [
    {
     "data": {
      "text/html": [
       "<div>\n",
       "<style scoped>\n",
       "    .dataframe tbody tr th:only-of-type {\n",
       "        vertical-align: middle;\n",
       "    }\n",
       "\n",
       "    .dataframe tbody tr th {\n",
       "        vertical-align: top;\n",
       "    }\n",
       "\n",
       "    .dataframe thead th {\n",
       "        text-align: right;\n",
       "    }\n",
       "</style>\n",
       "<table border=\"1\" class=\"dataframe\">\n",
       "  <thead>\n",
       "    <tr style=\"text-align: right;\">\n",
       "      <th></th>\n",
       "      <th>Sentences</th>\n",
       "      <th>predictors</th>\n",
       "      <th>labels</th>\n",
       "      <th>file</th>\n",
       "    </tr>\n",
       "  </thead>\n",
       "  <tbody>\n",
       "    <tr>\n",
       "      <th>0</th>\n",
       "      <td>sentence 1</td>\n",
       "      <td>[Prozesskostenhilfe, -, Entschädigung, für, üb...</td>\n",
       "      <td>[O, O, O, O, O, O, O, O]</td>\n",
       "      <td>bag</td>\n",
       "    </tr>\n",
       "    <tr>\n",
       "      <th>1</th>\n",
       "      <td>sentence 2</td>\n",
       "      <td>[Der, Antrag, auf, Gewährung, von, Prozesskost...</td>\n",
       "      <td>[O, O, O, O, O, O, O, O, O, O, O, B-AN, O, O, ...</td>\n",
       "      <td>bag</td>\n",
       "    </tr>\n",
       "  </tbody>\n",
       "</table>\n",
       "</div>"
      ],
      "text/plain": [
       "    Sentences                                         predictors  \\\n",
       "0  sentence 1  [Prozesskostenhilfe, -, Entschädigung, für, üb...   \n",
       "1  sentence 2  [Der, Antrag, auf, Gewährung, von, Prozesskost...   \n",
       "\n",
       "                                              labels file  \n",
       "0                           [O, O, O, O, O, O, O, O]  bag  \n",
       "1  [O, O, O, O, O, O, O, O, O, O, O, B-AN, O, O, ...  bag  "
      ]
     },
     "execution_count": 4,
     "metadata": {},
     "output_type": "execute_result"
    }
   ],
   "source": [
    "df= dataset\n",
    "df.head(2)"
   ]
  },
  {
   "cell_type": "markdown",
   "metadata": {},
   "source": [
    "### Data preparation "
   ]
  },
  {
   "cell_type": "code",
   "execution_count": 5,
   "metadata": {},
   "outputs": [],
   "source": [
    "predictors, labels = df['predictors'], df['labels']"
   ]
  },
  {
   "cell_type": "markdown",
   "metadata": {},
   "source": [
    "###### SequenceEncoder \n",
    "mimics the keras's Tokenizer utilities."
   ]
  },
  {
   "cell_type": "code",
   "execution_count": 6,
   "metadata": {},
   "outputs": [],
   "source": [
    "predictor_encoder = SequenceEncoder(max_sequence_len = 100)"
   ]
  },
  {
   "cell_type": "code",
   "execution_count": 7,
   "metadata": {},
   "outputs": [],
   "source": [
    "predictor_encoder.fit(predictors)"
   ]
  },
  {
   "cell_type": "markdown",
   "metadata": {},
   "source": [
    "###### assign a unique number to each unique word in predictors and extends/cuts each sentence in predictors to length of 100"
   ]
  },
  {
   "cell_type": "code",
   "execution_count": 8,
   "metadata": {},
   "outputs": [
    {
     "name": "stdout",
     "output_type": "stream",
     "text": [
      "Predictors before sequencing:\n",
      " 0    [Prozesskostenhilfe, -, Entschädigung, für, üb...\n",
      "Name: predictors, dtype: object\n",
      "\n",
      "Encoded predictors:\n",
      " 0    [2740, 11, 2817, 18, 11822, 3894, 11, 792, 0, ...\n",
      "Name: predictors, dtype: object\n"
     ]
    }
   ],
   "source": [
    "print(\"Predictors before sequencing:\\n {}\". format(predictors[:1]))\n",
    "encoded_words = predictor_encoder.transform(predictors) \n",
    "print(\"\\nEncoded predictors:\\n {}\".format(encoded_words[:1]))"
   ]
  },
  {
   "cell_type": "code",
   "execution_count": 9,
   "metadata": {},
   "outputs": [],
   "source": [
    "## 2D array of all rows in df['predictors'] , shape (66723, 100) \n",
    "words = np.array(encoded_words.tolist())  \n",
    "## sorted list of all unique encoded words(their assigned numbers)\n",
    "unique_words = np.unique(words)\n",
    "## value of the largest encoded word\n",
    "words_dim = unique_words[-1] "
   ]
  },
  {
   "cell_type": "markdown",
   "metadata": {},
   "source": [
    "###### assign a unique number to each label in labels"
   ]
  },
  {
   "cell_type": "code",
   "execution_count": 10,
   "metadata": {},
   "outputs": [
    {
     "name": "stdout",
     "output_type": "stream",
     "text": [
      "labels before sequencing:\n",
      "0    [O, O, O, O, O, O, O, O]\n",
      "Name: labels, dtype: object\n",
      "\n",
      "Encoded labels:\n",
      "0    [1, 1, 1, 1, 1, 1, 1, 1, 0, 0, 0, 0, 0, 0, 0, ...\n",
      "Name: labels, dtype: object\n"
     ]
    }
   ],
   "source": [
    "label_encoder = SequenceEncoder(max_sequence_len = 100, special_tokens = ['<EMPTY>'])\n",
    "label_encoder.fit(labels)\n",
    "print(\"labels before sequencing:\\n{}\". format(labels[:1]))\n",
    "encoded_labels = label_encoder.transform(labels)\n",
    "print(\"\\nEncoded labels:\\n{}\".format(encoded_labels[:1]))"
   ]
  },
  {
   "cell_type": "code",
   "execution_count": 11,
   "metadata": {},
   "outputs": [
    {
     "name": "stdout",
     "output_type": "stream",
     "text": [
      "Number of Labels:  40\n"
     ]
    }
   ],
   "source": [
    "labels_array = np.array(encoded_labels.tolist()) ## 2D array of all rows in df['labels'] , shape : 66723,100\n",
    "labels_num = len(np.unique(labels_array))\n",
    "print(\"Number of Labels: \",labels_num)"
   ]
  },
  {
   "cell_type": "markdown",
   "metadata": {},
   "source": [
    "###### to_categorical:\n",
    "represent each one of the labels in a unique binary vector"
   ]
  },
  {
   "cell_type": "code",
   "execution_count": 12,
   "metadata": {},
   "outputs": [
    {
     "data": {
      "text/plain": [
       "[array([[0., 1., 0., ..., 0., 0., 0.],\n",
       "        [0., 1., 0., ..., 0., 0., 0.],\n",
       "        [0., 1., 0., ..., 0., 0., 0.],\n",
       "        ...,\n",
       "        [1., 0., 0., ..., 0., 0., 0.],\n",
       "        [1., 0., 0., ..., 0., 0., 0.],\n",
       "        [1., 0., 0., ..., 0., 0., 0.]], dtype=float32)]"
      ]
     },
     "execution_count": 12,
     "metadata": {},
     "output_type": "execute_result"
    }
   ],
   "source": [
    "from tensorflow.keras.utils import to_categorical\n",
    "y = [to_categorical(i,num_classes=40) for i in labels_array]  ## we have 39 classes and the 0\n",
    "y[:1]"
   ]
  },
  {
   "cell_type": "markdown",
   "metadata": {},
   "source": [
    "###### binary_to_label: (reverses 'to_categorical'  function)\n",
    "Reverse the binary representation of labels to their encoded form"
   ]
  },
  {
   "cell_type": "code",
   "execution_count": 13,
   "metadata": {},
   "outputs": [],
   "source": [
    "def binary_to_label(binary_labels):\n",
    "    reverse_ = []\n",
    "    for y in binary_labels:\n",
    "        reverse_.append(np.argmax(y, axis=-1))\n",
    "    return reverse_"
   ]
  },
  {
   "cell_type": "markdown",
   "metadata": {},
   "source": [
    "### Cross Validation "
   ]
  },
  {
   "cell_type": "code",
   "execution_count": 14,
   "metadata": {},
   "outputs": [],
   "source": [
    "## first we divide the dataset into k-folds\n",
    "import sklearn\n",
    "def shuffle_data(Data, Target):\n",
    "    return sklearn.utils.shuffle(Data, Target, random_state=20)\n",
    "\n",
    "def cross_validation(Data, Target, L):\n",
    "    \n",
    "    split_combination = []\n",
    "    historia = []\n",
    "    historia_split_num = []\n",
    "    ## shuffle data and target in the same order.\n",
    "    ##example data[[1,2],[4,5],[7,8]], target [10,11,12] => after shuffle ==> data[[4,5],[7,8],[1,2]], target [11,12,10]\n",
    "    data_, target_ = shuffle_data(Data, Target)\n",
    "        \n",
    "    ## split data and target into L slices\n",
    "    split_data = np.asarray(np.array_split(data_,L, axis = 0))\n",
    "    split_target = np.array(np.array_split(target_, L))\n",
    "    ## list to store errors rate of each slice prediction \n",
    "    errors = []\n",
    "    ##for L slices take one slice as test and the rest as training\n",
    "    for i in range(L):\n",
    "        print(\"\\nSlice Nr: {}\\n\".format(i+1))\n",
    "        # test_data and test_target for a certain slice in L\n",
    "        data_test = split_data[i]\n",
    "        target_test = split_target[i]\n",
    "        data_train = np.concatenate([split_data[j] for j in range(L) if j != i])\n",
    "        target_train = np.concatenate([split_target[j] for j in range(L) if j != i])\n",
    "        \n",
    "        split_combination.append(([data_train, target_train] ,[data_test, target_test]))\n",
    "        ## divide the training data, target to 20% validation data/target ##  or maybe not!\n",
    "        historia.append(model_call(data_train, target_train, exec(f'LSTM_model_{i+1} = None')))\n",
    "            \n",
    "    return split_combination, historia "
   ]
  },
  {
   "cell_type": "code",
   "execution_count": 15,
   "metadata": {},
   "outputs": [],
   "source": [
    "def get_best_model(Data, Target, L): ## function calls train data on a model using cross validation\n",
    "    \n",
    "    Schuffled_target, cross_historia = cross_validation(Data, Target, L)  ## cross validation and train one model\n",
    "    history_list = []\n",
    "    ## this loops stores each of loss,accuracy, value_loss, value_accuracy in a list\n",
    "    for i in cross_historia:\n",
    "        history_list.append([val for v in i[0].history.values() for val in v]) \n",
    "    arr = np.vstack([val for val in history_list])\n",
    "    loss_less = np.argmin((arr[:,[0,2]]),axis=0) ## these columns contain the loss and val loss \n",
    "    val_high = np.argmax((arr[:,[1,3]]),axis=0) ## these columns contain the accuracy and value accuracy\n",
    "    loss_acc = np.concatenate((loss_less, val_high))\n",
    "    most_frequent = np.argmax(np.bincount(loss_acc)) ## most frquent vector (vectors with the best results)\n",
    "    best_ =  loss_acc[most_frequent]\n",
    "    \n",
    "    return cross_historia[best_] , Schuffled_target[best_] ## returns the best split, history and the model that was used"
   ]
  },
  {
   "cell_type": "markdown",
   "metadata": {},
   "source": [
    "### Training LSTM model"
   ]
  },
  {
   "cell_type": "code",
   "execution_count": 16,
   "metadata": {},
   "outputs": [],
   "source": [
    "from keras import Model, Input\n",
    "from keras.models import Sequential\n",
    "from keras.layers import Dense , Embedding ,LSTM\n",
    "from keras import Model, Input\n",
    "from keras.layers import TimeDistributed, SpatialDropout1D, Bidirectional\n",
    "from sklearn.metrics import f1_score, precision_score, recall_score, confusion_matrix\n",
    "from sklearn.metrics import classification_report\n",
    "import keras"
   ]
  },
  {
   "cell_type": "code",
   "execution_count": 17,
   "metadata": {},
   "outputs": [],
   "source": [
    "def model_call(x_train, y_train, model):\n",
    "    max_len = 100\n",
    "    input_word = Input(shape =(max_len, ))\n",
    "    model = Embedding(input_dim = words_dim+1, output_dim = max_len, input_length = max_len)(input_word)\n",
    "    model = SpatialDropout1D(0.1)(model)\n",
    "    model = Bidirectional(LSTM(units=100, return_sequences=True,recurrent_dropout=0.1))(model)\n",
    "    out = TimeDistributed(Dense(40, activation='softmax'))(model)\n",
    "    model = Model(input_word, out)\n",
    "    model.summary()\n",
    "    model.compile(optimizer='adam', loss='categorical_crossentropy', metrics=['accuracy'])\n",
    "    return model.fit(x_train, y_train, epochs=5, validation_split=0.2) , model"
   ]
  },
  {
   "cell_type": "markdown",
   "metadata": {},
   "source": [
    "###### Split data into training and testing \n",
    "for the encoded_words will represent X_data, y (binary form of the labels) will represent Y_data"
   ]
  },
  {
   "cell_type": "code",
   "execution_count": 18,
   "metadata": {},
   "outputs": [
    {
     "data": {
      "text/plain": [
       "((66723, 100), (66723, 100, 40))"
      ]
     },
     "execution_count": 18,
     "metadata": {},
     "output_type": "execute_result"
    }
   ],
   "source": [
    "Data , Target = np.array(encoded_words.tolist()) , np.array(y)\n",
    "Data.shape, Target.shape"
   ]
  },
  {
   "cell_type": "code",
   "execution_count": 20,
   "metadata": {},
   "outputs": [
    {
     "name": "stderr",
     "output_type": "stream",
     "text": [
      "C:\\Users\\Mazz Issa\\anaconda3\\lib\\site-packages\\numpy\\core\\_asarray.py:83: VisibleDeprecationWarning: Creating an ndarray from ragged nested sequences (which is a list-or-tuple of lists-or-tuples-or ndarrays with different lengths or shapes) is deprecated. If you meant to do this, you must specify 'dtype=object' when creating the ndarray\n",
      "  return array(a, dtype, copy=False, order=order)\n",
      "C:\\Users\\Mazz Issa\\anaconda3\\lib\\site-packages\\ipykernel_launcher.py:17: VisibleDeprecationWarning: Creating an ndarray from ragged nested sequences (which is a list-or-tuple of lists-or-tuples-or ndarrays with different lengths or shapes) is deprecated. If you meant to do this, you must specify 'dtype=object' when creating the ndarray\n"
     ]
    },
    {
     "name": "stdout",
     "output_type": "stream",
     "text": [
      "\n",
      "Slice Nr: 1\n",
      "\n",
      "Model: \"model\"\n",
      "_________________________________________________________________\n",
      "Layer (type)                 Output Shape              Param #   \n",
      "=================================================================\n",
      "input_1 (InputLayer)         [(None, 100)]             0         \n",
      "_________________________________________________________________\n",
      "embedding (Embedding)        (None, 100, 100)          8158300   \n",
      "_________________________________________________________________\n",
      "spatial_dropout1d (SpatialDr (None, 100, 100)          0         \n",
      "_________________________________________________________________\n",
      "bidirectional (Bidirectional (None, 100, 200)          160800    \n",
      "_________________________________________________________________\n",
      "time_distributed (TimeDistri (None, 100, 40)           8040      \n",
      "=================================================================\n",
      "Total params: 8,327,140\n",
      "Trainable params: 8,327,140\n",
      "Non-trainable params: 0\n",
      "_________________________________________________________________\n",
      "Epoch 1/5\n",
      "1335/1335 [==============================] - 673s 492ms/step - loss: 0.3656 - accuracy: 0.9333 - val_loss: 0.0385 - val_accuracy: 0.9907\n",
      "Epoch 2/5\n",
      "1335/1335 [==============================] - 820s 614ms/step - loss: 0.0309 - accuracy: 0.9920 - val_loss: 0.0228 - val_accuracy: 0.9945\n",
      "Epoch 3/5\n",
      "1335/1335 [==============================] - 754s 564ms/step - loss: 0.0148 - accuracy: 0.9960 - val_loss: 0.0197 - val_accuracy: 0.9953\n",
      "Epoch 4/5\n",
      "1335/1335 [==============================] - 660s 494ms/step - loss: 0.0088 - accuracy: 0.9975 - val_loss: 0.0187 - val_accuracy: 0.9954\n",
      "Epoch 5/5\n",
      "1335/1335 [==============================] - 591s 443ms/step - loss: 0.0051 - accuracy: 0.9986 - val_loss: 0.0162 - val_accuracy: 0.9965\n",
      "\n",
      "Slice Nr: 2\n",
      "\n",
      "Model: \"model_1\"\n",
      "_________________________________________________________________\n",
      "Layer (type)                 Output Shape              Param #   \n",
      "=================================================================\n",
      "input_2 (InputLayer)         [(None, 100)]             0         \n",
      "_________________________________________________________________\n",
      "embedding_1 (Embedding)      (None, 100, 100)          8158300   \n",
      "_________________________________________________________________\n",
      "spatial_dropout1d_1 (Spatial (None, 100, 100)          0         \n",
      "_________________________________________________________________\n",
      "bidirectional_1 (Bidirection (None, 100, 200)          160800    \n",
      "_________________________________________________________________\n",
      "time_distributed_1 (TimeDist (None, 100, 40)           8040      \n",
      "=================================================================\n",
      "Total params: 8,327,140\n",
      "Trainable params: 8,327,140\n",
      "Non-trainable params: 0\n",
      "_________________________________________________________________\n",
      "Epoch 1/5\n",
      "1335/1335 [==============================] - 594s 437ms/step - loss: 0.3500 - accuracy: 0.9338 - val_loss: 0.0395 - val_accuracy: 0.9904\n",
      "Epoch 2/5\n",
      "1335/1335 [==============================] - 583s 436ms/step - loss: 0.0317 - accuracy: 0.9919 - val_loss: 0.0228 - val_accuracy: 0.9943\n",
      "Epoch 3/5\n",
      "1335/1335 [==============================] - 581s 435ms/step - loss: 0.0146 - accuracy: 0.9960 - val_loss: 0.0196 - val_accuracy: 0.9954\n",
      "Epoch 4/5\n",
      "1335/1335 [==============================] - 580s 434ms/step - loss: 0.0082 - accuracy: 0.9977 - val_loss: 0.0163 - val_accuracy: 0.9963\n",
      "Epoch 5/5\n",
      "1335/1335 [==============================] - 584s 438ms/step - loss: 0.0048 - accuracy: 0.9987 - val_loss: 0.0176 - val_accuracy: 0.9962\n",
      "\n",
      "Slice Nr: 3\n",
      "\n",
      "Model: \"model_2\"\n",
      "_________________________________________________________________\n",
      "Layer (type)                 Output Shape              Param #   \n",
      "=================================================================\n",
      "input_3 (InputLayer)         [(None, 100)]             0         \n",
      "_________________________________________________________________\n",
      "embedding_2 (Embedding)      (None, 100, 100)          8158300   \n",
      "_________________________________________________________________\n",
      "spatial_dropout1d_2 (Spatial (None, 100, 100)          0         \n",
      "_________________________________________________________________\n",
      "bidirectional_2 (Bidirection (None, 100, 200)          160800    \n",
      "_________________________________________________________________\n",
      "time_distributed_2 (TimeDist (None, 100, 40)           8040      \n",
      "=================================================================\n",
      "Total params: 8,327,140\n",
      "Trainable params: 8,327,140\n",
      "Non-trainable params: 0\n",
      "_________________________________________________________________\n",
      "Epoch 1/5\n",
      "1335/1335 [==============================] - 605s 444ms/step - loss: 0.3680 - accuracy: 0.9311 - val_loss: 0.0411 - val_accuracy: 0.9894\n",
      "Epoch 2/5\n",
      "1335/1335 [==============================] - 592s 443ms/step - loss: 0.0352 - accuracy: 0.9906 - val_loss: 0.0259 - val_accuracy: 0.9934\n",
      "Epoch 3/5\n",
      "1335/1335 [==============================] - 618s 463ms/step - loss: 0.0159 - accuracy: 0.9956 - val_loss: 0.0187 - val_accuracy: 0.9956\n",
      "Epoch 4/5\n",
      "1335/1335 [==============================] - 591s 443ms/step - loss: 0.0083 - accuracy: 0.9978 - val_loss: 0.0175 - val_accuracy: 0.9962\n",
      "Epoch 5/5\n",
      "1335/1335 [==============================] - 590s 442ms/step - loss: 0.0051 - accuracy: 0.9987 - val_loss: 0.0163 - val_accuracy: 0.9966\n",
      "\n",
      "Slice Nr: 4\n",
      "\n",
      "Model: \"model_3\"\n",
      "_________________________________________________________________\n",
      "Layer (type)                 Output Shape              Param #   \n",
      "=================================================================\n",
      "input_4 (InputLayer)         [(None, 100)]             0         \n",
      "_________________________________________________________________\n",
      "embedding_3 (Embedding)      (None, 100, 100)          8158300   \n",
      "_________________________________________________________________\n",
      "spatial_dropout1d_3 (Spatial (None, 100, 100)          0         \n",
      "_________________________________________________________________\n",
      "bidirectional_3 (Bidirection (None, 100, 200)          160800    \n",
      "_________________________________________________________________\n",
      "time_distributed_3 (TimeDist (None, 100, 40)           8040      \n",
      "=================================================================\n",
      "Total params: 8,327,140\n",
      "Trainable params: 8,327,140\n",
      "Non-trainable params: 0\n",
      "_________________________________________________________________\n",
      "Epoch 1/5\n",
      "1335/1335 [==============================] - 640s 471ms/step - loss: 0.3564 - accuracy: 0.9324 - val_loss: 0.0415 - val_accuracy: 0.9892\n",
      "Epoch 2/5\n",
      "1335/1335 [==============================] - 600s 449ms/step - loss: 0.0342 - accuracy: 0.9908 - val_loss: 0.0231 - val_accuracy: 0.9943\n",
      "Epoch 3/5\n",
      "1335/1335 [==============================] - 606s 454ms/step - loss: 0.0148 - accuracy: 0.9960 - val_loss: 0.0188 - val_accuracy: 0.9954\n",
      "Epoch 4/5\n",
      "1335/1335 [==============================] - 608s 455ms/step - loss: 0.0087 - accuracy: 0.9976 - val_loss: 0.0173 - val_accuracy: 0.9961\n",
      "Epoch 5/5\n",
      "1335/1335 [==============================] - 607s 455ms/step - loss: 0.0048 - accuracy: 0.9986 - val_loss: 0.0162 - val_accuracy: 0.9965\n",
      "\n",
      "Slice Nr: 5\n",
      "\n",
      "Model: \"model_4\"\n",
      "_________________________________________________________________\n",
      "Layer (type)                 Output Shape              Param #   \n",
      "=================================================================\n",
      "input_5 (InputLayer)         [(None, 100)]             0         \n",
      "_________________________________________________________________\n",
      "embedding_4 (Embedding)      (None, 100, 100)          8158300   \n",
      "_________________________________________________________________\n",
      "spatial_dropout1d_4 (Spatial (None, 100, 100)          0         \n",
      "_________________________________________________________________\n",
      "bidirectional_4 (Bidirection (None, 100, 200)          160800    \n",
      "_________________________________________________________________\n",
      "time_distributed_4 (TimeDist (None, 100, 40)           8040      \n",
      "=================================================================\n",
      "Total params: 8,327,140\n",
      "Trainable params: 8,327,140\n",
      "Non-trainable params: 0\n",
      "_________________________________________________________________\n",
      "Epoch 1/5\n",
      "1335/1335 [==============================] - 635s 467ms/step - loss: 0.3648 - accuracy: 0.9302 - val_loss: 0.0500 - val_accuracy: 0.9873\n",
      "Epoch 2/5\n",
      "1335/1335 [==============================] - 624s 467ms/step - loss: 0.0375 - accuracy: 0.9902 - val_loss: 0.0258 - val_accuracy: 0.9933\n",
      "Epoch 3/5\n",
      "1335/1335 [==============================] - 628s 470ms/step - loss: 0.0170 - accuracy: 0.9953 - val_loss: 0.0202 - val_accuracy: 0.9950\n",
      "Epoch 4/5\n",
      "1335/1335 [==============================] - 621s 465ms/step - loss: 0.0094 - accuracy: 0.9974 - val_loss: 0.0176 - val_accuracy: 0.9956\n",
      "Epoch 5/5\n",
      "1335/1335 [==============================] - 632s 474ms/step - loss: 0.0055 - accuracy: 0.9985 - val_loss: 0.0170 - val_accuracy: 0.9961\n"
     ]
    }
   ],
   "source": [
    "best_model ,best_split = get_best_model(Data, Target,5)"
   ]
  },
  {
   "cell_type": "code",
   "execution_count": 21,
   "metadata": {},
   "outputs": [
    {
     "name": "stdout",
     "output_type": "stream",
     "text": [
      "<tensorflow.python.keras.callbacks.History object at 0x000002B4B7FBEF88> <tensorflow.python.keras.engine.functional.Functional object at 0x000002B3EE6757C8>\n"
     ]
    }
   ],
   "source": [
    "history, model = best_model[0], best_model[1]  ##  best_model contain history and the best model \n",
    "train_data, test_data = (best_split[0], best_split[1]) ## best split, contains traindata on one side and test data on the other\n",
    "\n",
    "print(history, model)"
   ]
  },
  {
   "cell_type": "code",
   "execution_count": 22,
   "metadata": {},
   "outputs": [
    {
     "name": "stdout",
     "output_type": "stream",
     "text": [
      "Model: \"model_1\"\n",
      "_________________________________________________________________\n",
      "Layer (type)                 Output Shape              Param #   \n",
      "=================================================================\n",
      "input_2 (InputLayer)         [(None, 100)]             0         \n",
      "_________________________________________________________________\n",
      "embedding_1 (Embedding)      (None, 100, 100)          8158300   \n",
      "_________________________________________________________________\n",
      "spatial_dropout1d_1 (Spatial (None, 100, 100)          0         \n",
      "_________________________________________________________________\n",
      "bidirectional_1 (Bidirection (None, 100, 200)          160800    \n",
      "_________________________________________________________________\n",
      "time_distributed_1 (TimeDist (None, 100, 40)           8040      \n",
      "=================================================================\n",
      "Total params: 8,327,140\n",
      "Trainable params: 8,327,140\n",
      "Non-trainable params: 0\n",
      "_________________________________________________________________\n"
     ]
    }
   ],
   "source": [
    "model.summary() ## the model that was choosen "
   ]
  },
  {
   "cell_type": "code",
   "execution_count": 20,
   "metadata": {},
   "outputs": [],
   "source": [
    "from tensorflow import keras\n",
    "\n",
    "#model.save(\"LSTM_Model\")\n",
    "LSTM = keras.models.load_model('C:/Users/Mazz Issa/Documents/Kurse/TA/Project/LegalNER-main/LegalNER-main/LEGAL_NER(D)/LSTM_model/lstm_model.h5')"
   ]
  },
  {
   "cell_type": "markdown",
   "metadata": {},
   "source": [
    "### evaluation of the model"
   ]
  },
  {
   "cell_type": "code",
   "execution_count": 24,
   "metadata": {},
   "outputs": [
    {
     "data": {
      "image/png": "[encoded data removed]",
      "text/plain": [
       "<Figure size 432x288 with 1 Axes>"
      ]
     },
     "metadata": {
      "needs_background": "light"
     },
     "output_type": "display_data"
    }
   ],
   "source": [
    "plt.plot(history.history['loss'], color='r', label='loss')\n",
    "plt.plot(history.history['val_loss'], color='g', label = 'val_loss')\n",
    "plt.legend()\n",
    "plt.show()"
   ]
  },
  {
   "cell_type": "code",
   "execution_count": 25,
   "metadata": {},
   "outputs": [
    {
     "data": {
      "image/png": "[encoded data removed]",
      "text/plain": [
       "<Figure size 432x288 with 1 Axes>"
      ]
     },
     "metadata": {
      "needs_background": "light"
     },
     "output_type": "display_data"
    }
   ],
   "source": [
    "plt.plot(history.history['accuracy'], color='r', label='accuracy')\n",
    "plt.plot(history.history['val_accuracy'], color='g', label = 'val_accuracy')\n",
    "plt.legend()\n",
    "plt.show()"
   ]
  },
  {
   "cell_type": "markdown",
   "metadata": {},
   "source": [
    "### The accuracy and the value accuracy seem to be really hight but in our case this doest really see much about how our model worked, what could be more usefull is, to check the precision of each label after testing!"
   ]
  },
  {
   "cell_type": "markdown",
   "metadata": {},
   "source": [
    "### DataFrame of the prediction"
   ]
  },
  {
   "cell_type": "code",
   "execution_count": 23,
   "metadata": {},
   "outputs": [],
   "source": [
    "def test_to_df(test_data, model):\n",
    "    ## get the predicted labels \n",
    "    result = np.round(model.predict(test_data))  ## model.predicts returns values between 0 and 1, therefore, round the results\n",
    "    ## change the predicted labels from binary to their encoded sequence and reverse the sequence to labels\n",
    "    result = binary_to_label(result)\n",
    "    predicted_labels = label_encoder.reverse(result) \n",
    "    \n",
    "    ## reverse the test_data sequence to words\n",
    "    test_df = pd.Series(test_data.tolist()) \n",
    "    test_words = predictor_encoder.reverse(test_df)\n",
    "    \n",
    "    ## create a Dataframe\n",
    "    return pd.DataFrame(zip(test_words,predicted_labels), columns=['predictors_test', 'labels_test'])"
   ]
  },
  {
   "cell_type": "markdown",
   "metadata": {},
   "source": [
    "### Evaluate result precision"
   ]
  },
  {
   "cell_type": "code",
   "execution_count": 43,
   "metadata": {},
   "outputs": [],
   "source": [
    "## this function calculates the precision, recall, f1-score to each for all labels in the passed parameters\n",
    "def get_accuracy(Xtest_data, Ytest_data, model, target_names=None):\n",
    "    \n",
    "    pred = np.round(model.predict(Xtest_data))\n",
    "    pred = binary_to_label(pred)\n",
    "    y_test = binary_to_label(Ytest_data)\n",
    "    \n",
    "    pred_ = np.concatenate(pred).ravel().tolist()\n",
    "    y_ = np.concatenate(y_test).ravel().tolist()\n",
    "    \n",
    "    return classification_report(y_, pred_, target_names, output_dict=True)"
   ]
  },
  {
   "cell_type": "code",
   "execution_count": null,
   "metadata": {},
   "outputs": [],
   "source": []
  },
  {
   "cell_type": "code",
   "execution_count": 28,
   "metadata": {},
   "outputs": [],
   "source": [
    "prediction_df = test_to_df(test_data[0],model)"
   ]
  },
  {
   "cell_type": "code",
   "execution_count": 29,
   "metadata": {},
   "outputs": [
    {
     "data": {
      "text/html": [
       "<div>\n",
       "<style scoped>\n",
       "    .dataframe tbody tr th:only-of-type {\n",
       "        vertical-align: middle;\n",
       "    }\n",
       "\n",
       "    .dataframe tbody tr th {\n",
       "        vertical-align: top;\n",
       "    }\n",
       "\n",
       "    .dataframe thead th {\n",
       "        text-align: right;\n",
       "    }\n",
       "</style>\n",
       "<table border=\"1\" class=\"dataframe\">\n",
       "  <thead>\n",
       "    <tr style=\"text-align: right;\">\n",
       "      <th></th>\n",
       "      <th>predictors_test</th>\n",
       "      <th>labels_test</th>\n",
       "    </tr>\n",
       "  </thead>\n",
       "  <tbody>\n",
       "    <tr>\n",
       "      <th>8344</th>\n",
       "      <td>[Nach, §, 7, Nr., 3, VTV, hat, der, Arbeitgebe...</td>\n",
       "      <td>[O, B-VT, I-VT, I-VT, I-VT, I-VT, O, O, O, O, ...</td>\n",
       "    </tr>\n",
       "    <tr>\n",
       "      <th>5595</th>\n",
       "      <td>[Insofern, gibt, es, auch, im, Rahmen, von, un...</td>\n",
       "      <td>[O, O, O, O, O, O, O, O, O, O, O, O, O, O, B-I...</td>\n",
       "    </tr>\n",
       "    <tr>\n",
       "      <th>3827</th>\n",
       "      <td>[„, §, 1]</td>\n",
       "      <td>[O, O, O]</td>\n",
       "    </tr>\n",
       "    <tr>\n",
       "      <th>11825</th>\n",
       "      <td>[Der, Kläger, hat, aber, -, was, zwischen, den...</td>\n",
       "      <td>[O, O, O, O, O, O, O, O, O, O, O, O, O, O, O, ...</td>\n",
       "    </tr>\n",
       "    <tr>\n",
       "      <th>11158</th>\n",
       "      <td>[Die, Schnittstellenfunktion, ist, zudem, erke...</td>\n",
       "      <td>[O, O, O, O, O, O, O, O, O, O, O, O, O, O, O, ...</td>\n",
       "    </tr>\n",
       "    <tr>\n",
       "      <th>8832</th>\n",
       "      <td>[Ob, im, Einzelfall, eine, Terminsverlegung, g...</td>\n",
       "      <td>[O, O, O, O, O, O, O, O, O, O, O, O, O, O, O, ...</td>\n",
       "    </tr>\n",
       "    <tr>\n",
       "      <th>12317</th>\n",
       "      <td>[Vorliegend, stehen, sich, die, angegriffene, ...</td>\n",
       "      <td>[O, O, O, O, O, O, O, O, O, O, O, B-MRK, O, O]</td>\n",
       "    </tr>\n",
       "    <tr>\n",
       "      <th>1619</th>\n",
       "      <td>[Im, Falle, des, Klägers, ist, weder, die, Alt...</td>\n",
       "      <td>[O, O, O, O, O, O, O, O, O, O, O, O, O, O, O, ...</td>\n",
       "    </tr>\n",
       "    <tr>\n",
       "      <th>11210</th>\n",
       "      <td>[Zwar, werde, das, Erzeugnis, im, Grundpatent,...</td>\n",
       "      <td>[O, O, O, O, O, O, O, O, O, O, O, O, O, O, O, ...</td>\n",
       "    </tr>\n",
       "    <tr>\n",
       "      <th>12359</th>\n",
       "      <td>[§, 11, Ziff., 3, MTV, Systemgastronomie, 2014...</td>\n",
       "      <td>[B-VT, I-VT, I-VT, I-VT, I-VT, I-VT, I-VT, O, ...</td>\n",
       "    </tr>\n",
       "  </tbody>\n",
       "</table>\n",
       "</div>"
      ],
      "text/plain": [
       "                                         predictors_test  \\\n",
       "8344   [Nach, §, 7, Nr., 3, VTV, hat, der, Arbeitgebe...   \n",
       "5595   [Insofern, gibt, es, auch, im, Rahmen, von, un...   \n",
       "3827                                           [„, §, 1]   \n",
       "11825  [Der, Kläger, hat, aber, -, was, zwischen, den...   \n",
       "11158  [Die, Schnittstellenfunktion, ist, zudem, erke...   \n",
       "8832   [Ob, im, Einzelfall, eine, Terminsverlegung, g...   \n",
       "12317  [Vorliegend, stehen, sich, die, angegriffene, ...   \n",
       "1619   [Im, Falle, des, Klägers, ist, weder, die, Alt...   \n",
       "11210  [Zwar, werde, das, Erzeugnis, im, Grundpatent,...   \n",
       "12359  [§, 11, Ziff., 3, MTV, Systemgastronomie, 2014...   \n",
       "\n",
       "                                             labels_test  \n",
       "8344   [O, B-VT, I-VT, I-VT, I-VT, I-VT, O, O, O, O, ...  \n",
       "5595   [O, O, O, O, O, O, O, O, O, O, O, O, O, O, B-I...  \n",
       "3827                                           [O, O, O]  \n",
       "11825  [O, O, O, O, O, O, O, O, O, O, O, O, O, O, O, ...  \n",
       "11158  [O, O, O, O, O, O, O, O, O, O, O, O, O, O, O, ...  \n",
       "8832   [O, O, O, O, O, O, O, O, O, O, O, O, O, O, O, ...  \n",
       "12317     [O, O, O, O, O, O, O, O, O, O, O, B-MRK, O, O]  \n",
       "1619   [O, O, O, O, O, O, O, O, O, O, O, O, O, O, O, ...  \n",
       "11210  [O, O, O, O, O, O, O, O, O, O, O, O, O, O, O, ...  \n",
       "12359  [B-VT, I-VT, I-VT, I-VT, I-VT, I-VT, I-VT, O, ...  "
      ]
     },
     "execution_count": 29,
     "metadata": {},
     "output_type": "execute_result"
    }
   ],
   "source": [
    "prediction_df.sample(10)"
   ]
  },
  {
   "cell_type": "code",
   "execution_count": 30,
   "metadata": {},
   "outputs": [
    {
     "name": "stderr",
     "output_type": "stream",
     "text": [
      "C:\\Users\\Mazz Issa\\anaconda3\\lib\\site-packages\\sklearn\\utils\\validation.py:70: FutureWarning: Pass labels=None as keyword args. From version 0.25 passing these as positional arguments will result in an error\n",
      "  FutureWarning)\n",
      "C:\\Users\\Mazz Issa\\anaconda3\\lib\\site-packages\\sklearn\\metrics\\_classification.py:1221: UndefinedMetricWarning: Precision and F-score are ill-defined and being set to 0.0 in labels with no predicted samples. Use `zero_division` parameter to control this behavior.\n",
      "  _warn_prf(average, modifier, msg_start, len(result))\n"
     ]
    },
    {
     "name": "stdout",
     "output_type": "stream",
     "text": [
      "              precision    recall  f1-score   support\n",
      "\n",
      "           0       1.00      1.00      1.00    911363\n",
      "           1       0.99      1.00      0.99    344168\n",
      "           2       0.99      0.98      0.98     34041\n",
      "           3       0.99      0.96      0.98     19512\n",
      "           4       0.97      0.89      0.93      6058\n",
      "           5       0.99      0.95      0.97      3731\n",
      "           6       0.97      0.95      0.96      2420\n",
      "           7       0.87      0.88      0.87      2405\n",
      "           8       0.95      0.84      0.89      2260\n",
      "           9       0.95      0.86      0.90       877\n",
      "          10       0.79      0.70      0.75       797\n",
      "          11       0.93      0.49      0.64       855\n",
      "          12       0.94      0.91      0.92       638\n",
      "          13       0.95      0.80      0.87       527\n",
      "          14       0.88      0.88      0.88       566\n",
      "          15       0.93      0.85      0.89       490\n",
      "          16       0.93      0.88      0.91       407\n",
      "          17       0.90      0.55      0.68       366\n",
      "          18       0.84      0.53      0.65       371\n",
      "          19       0.98      0.87      0.92       315\n",
      "          20       0.95      0.82      0.88       287\n",
      "          21       0.96      0.80      0.87       327\n",
      "          22       0.90      0.74      0.81       299\n",
      "          23       0.83      0.59      0.69       256\n",
      "          24       0.93      0.70      0.80       216\n",
      "          25       0.89      0.75      0.82       154\n",
      "          26       0.81      0.50      0.62       137\n",
      "          27       0.88      0.60      0.71       131\n",
      "          28       0.77      0.48      0.59       121\n",
      "          29       0.95      0.44      0.60        84\n",
      "          30       0.86      0.68      0.76        75\n",
      "          31       0.96      0.33      0.49        70\n",
      "          32       0.71      0.18      0.29        28\n",
      "          33       1.00      0.03      0.07        29\n",
      "          34       1.00      0.26      0.42        34\n",
      "          35       1.00      0.35      0.52        23\n",
      "          36       1.00      0.65      0.79        26\n",
      "          37       0.00      0.00      0.00        16\n",
      "          38       0.00      0.00      0.00        15\n",
      "          39       0.00      0.00      0.00         5\n",
      "\n",
      "    accuracy                           1.00   1334500\n",
      "   macro avg       0.85      0.64      0.71   1334500\n",
      "weighted avg       1.00      1.00      0.99   1334500\n",
      "\n"
     ]
    }
   ],
   "source": [
    "model_accuracy = get_accurcy(test_data[0], test_data[1],model)\n",
    "print(model_accuracy)"
   ]
  },
  {
   "cell_type": "markdown",
   "metadata": {},
   "source": [
    " "
   ]
  },
  {
   "cell_type": "markdown",
   "metadata": {},
   "source": [
    "## Classification report "
   ]
  },
  {
   "cell_type": "code",
   "execution_count": null,
   "metadata": {},
   "outputs": [],
   "source": [
    "## i used this cell because i tested trained the model then saved the model, then i reloaded the made and tested on a later time \n",
    "## and had to re split the data in the following cell and check the precision \n",
    "Data_, Target_ = shuffle_data(Data, Target)\n",
    "\n",
    "X_test = Data_[round(Data_.shape[0]/5):(round(Data_.shape[0]/5)*2)]\n",
    "Y_test = Target_[round(Data_.shape[0]/5):(round(Data_.shape[0]/5)*2)]\n",
    "report = get_accuracy(X_test, Y_test,LSTM)\n",
    "df = pd.DataFrame(report)\n"
   ]
  },
  {
   "cell_type": "code",
   "execution_count": 72,
   "metadata": {},
   "outputs": [
    {
     "data": {
      "image/png": "[encoded data removed]",
      "text/plain": [
       "<Figure size 1008x432 with 1 Axes>"
      ]
     },
     "metadata": {
      "needs_background": "light"
     },
     "output_type": "display_data"
    }
   ],
   "source": [
    "df.loc[df.index == 'support', :] = oo[df.index != 'support'].apply(lambda x: x / float(n_points))\n",
    "ax = df.transpose().plot.bar(figsize=(14, 6), title='Classification report', )\n",
    "_ = ax.set_xticklabels(classes_list)\n",
    "plt.savefig(os.path.join(store_path,name+'.png'))"
   ]
  },
  {
   "cell_type": "markdown",
   "metadata": {},
   "source": [
    "#### The precision overall is turned out to be good, the only flaw is couple of the Labels appeared less than 5% of the times, these labels were mostly mispredicted and some were even ignored "
   ]
  },
  {
   "cell_type": "code",
   "execution_count": null,
   "metadata": {},
   "outputs": [],
   "source": []
  }
 ],
 "metadata": {
  "kernelspec": {
   "display_name": "Python 3",
   "language": "python",
   "name": "python3"
  },
  "language_info": {
   "codemirror_mode": {
    "name": "ipython",
    "version": 3
   },
   "file_extension": ".py",
   "mimetype": "text/x-python",
   "name": "python",
   "nbconvert_exporter": "python",
   "pygments_lexer": "ipython3",
   "version": "3.7.9"
  }
 },
 "nbformat": 4,
 "nbformat_minor": 4
}
