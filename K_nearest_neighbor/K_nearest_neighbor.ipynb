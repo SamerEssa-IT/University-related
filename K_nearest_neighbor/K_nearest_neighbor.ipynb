{
 "cells": [
  {
   "cell_type": "code",
   "execution_count": 1,
   "metadata": {},
   "outputs": [],
   "source": [
    "import numpy as np\n",
    "import pandas as pd\n",
    "from sklearn.datasets import load_digits\n",
    "import matplotlib.pyplot as plt\n",
    "from sklearn import model_selection\n",
    "from sklearn.utils import shuffle\n",
    "import sklearn\n",
    "import timeit"
   ]
  },
  {
   "cell_type": "code",
   "execution_count": 2,
   "metadata": {},
   "outputs": [
    {
     "name": "stdout",
     "output_type": "stream",
     "text": [
      "dict_keys(['data', 'target', 'target_names', 'images', 'DESCR'])\n"
     ]
    }
   ],
   "source": [
    "digits = load_digits()\n",
    "print(digits.keys())\n",
    "data = digits[\"data\"]\n",
    "target = digits[\"target\"]\n",
    "target_names = digits[\"target_names\"]\n",
    "images = digits[\"images\"]"
   ]
  },
  {
   "cell_type": "code",
   "execution_count": 3,
   "metadata": {},
   "outputs": [],
   "source": [
    "img = images[2]\n",
    "assert 2 == len(img.shape)"
   ]
  },
  {
   "cell_type": "code",
   "execution_count": 4,
   "metadata": {},
   "outputs": [
    {
     "data": {
      "image/png": "[encoded data removed]",
      "text/plain": [
       "<Figure size 432x288 with 1 Axes>"
      ]
     },
     "metadata": {
      "needs_background": "light"
     },
     "output_type": "display_data"
    }
   ],
   "source": [
    "plt.figure ()\n",
    "plt.gray ()\n",
    "plt.imshow (img , interpolation =\"bicubic\") # also try interpolation =\" bicubic \"\n",
    "plt.show ()"
   ]
  },
  {
   "cell_type": "code",
   "execution_count": 5,
   "metadata": {},
   "outputs": [],
   "source": [
    "# split the data and the labels such as:  60% training and 40% test \n",
    "X_all = data\n",
    "Y_all = target\n",
    "X_train,X_test, Y_train, Y_test =\\\n",
    "    model_selection.train_test_split(digits.data,digits.target, test_size = 0.4,random_state=0)"
   ]
  },
  {
   "cell_type": "code",
   "execution_count": 6,
   "metadata": {},
   "outputs": [],
   "source": [
    "#    Euclidean distance \n",
    "def euclidean_distance(Training, Test):\n",
    "    return np.linalg.norm((Training[:,np.newaxis] - Test),axis=2)"
   ]
  },
  {
   "cell_type": "code",
   "execution_count": 7,
   "metadata": {},
   "outputs": [
    {
     "name": "stdout",
     "output_type": "stream",
     "text": [
      "testing Euclidean_distance on some training and test data\n",
      "\n",
      " [[51.89412298 47.9895822  51.54609588 27.20294102]\n",
      " [40.16217126 31.35283081 46.97871859 38.34057903]\n",
      " [51.77837386 39.73663297 40.73082371 37.92097045]\n",
      " [52.03844733 44.38468204 49.13247399 45.4202598 ]\n",
      " [48.45616576 57.44562647 38.93584467 56.16938668]]\n"
     ]
    }
   ],
   "source": [
    "print(\"testing Euclidean_distance on some training and test data\")\n",
    "training = X_train[:5]\n",
    "test = X_test[100:104]\n",
    "dis_matrix = euclidean_distance(training, test)\n",
    "print(\"\\n\",dis_matrix)"
   ]
  },
  {
   "cell_type": "code",
   "execution_count": 8,
   "metadata": {},
   "outputs": [
    {
     "name": "stdout",
     "output_type": "stream",
     "text": [
      "run time of Euclidean_distance:\n",
      "2.77 s ± 869 ms per loop (mean ± std. dev. of 7 runs, 1 loop each)\n"
     ]
    }
   ],
   "source": [
    "print(\"run time of Euclidean_distance:\")\n",
    "%timeit dist_v = euclidean_distance(X_train, X_test)\n",
    "distance = euclidean_distance(X_train, X_test)"
   ]
  },
  {
   "cell_type": "markdown",
   "metadata": {},
   "source": [
    "The run time on our data here is pretty good to work with "
   ]
  },
  {
   "cell_type": "markdown",
   "metadata": {},
   "source": [
    "# K-Nearest Neighbor"
   ]
  },
  {
   "cell_type": "code",
   "execution_count": 9,
   "metadata": {},
   "outputs": [],
   "source": [
    "def k_nearest_neighbor(K,Training_data,Training_targets, Test_data):\n",
    "    # define a list to store neighbors\n",
    "    magority = []\n",
    "    # matrix of distances\n",
    "    distances = euclidean_distance(Training_data,Test_data)\n",
    "    neighbors = np.argsort(distances,axis = 0)[:K,:]\n",
    "    labels = Training_targets[neighbors]\n",
    "    for neighbor in range(labels.shape[1]):\n",
    "        # check the most frequent element\n",
    "        magority.append(np.argmax((np.bincount(labels[:,neighbor]))))\n",
    "    return magority"
   ]
  },
  {
   "cell_type": "code",
   "execution_count": 10,
   "metadata": {},
   "outputs": [],
   "source": [
    "x_train = X_train[:99]\n",
    "y_train = Y_train[:99]\n",
    "x_test = X_test[100:1000]\n",
    "y_test =Y_test[100:1000]\n",
    "k = 5\n",
    "test_prediction = k_nearest_neighbor(k,x_train, y_train, x_test)"
   ]
  },
  {
   "cell_type": "code",
   "execution_count": 11,
   "metadata": {},
   "outputs": [
    {
     "name": "stdout",
     "output_type": "stream",
     "text": [
      "the error rate of our prediction is:18.25525040387722% \n"
     ]
    }
   ],
   "source": [
    "def error_rate(Y_test, Prediction):\n",
    "    error = 0\n",
    "    errors_sum =np.sum(np.where(Y_test != Prediction, error + 1, error + 0))\n",
    "    errors_rate = ((errors_sum)/len(Y_test))*100\n",
    "    return errors_rate\n",
    "\n",
    "error_ = error_rate(y_test, test_prediction)\n",
    "print(\"the error rate of our prediction is:{}% \".format(error_))"
   ]
  },
  {
   "cell_type": "markdown",
   "metadata": {},
   "source": [
    "\\\n",
    "The Error rate we get is not so great,\\\n",
    "Therefore, we will apply cross validation on KNN classifier to optimise our prediction "
   ]
  },
  {
   "cell_type": "code",
   "execution_count": 12,
   "metadata": {},
   "outputs": [],
   "source": [
    "## first we divide the dataset into k-folds\n",
    "def cross_validation(Data, Target, L, K):\n",
    "\n",
    "    \n",
    "    ## shuffle data and target in the same order.\n",
    "    ##example data[[1,2],[4,5],[7,8]], target [10,11,12] => after shuffle ==> data[[4,5],[7,8],[1,2]], target [11,12,10]\n",
    "    data,target = sklearn.utils.shuffle(Data, Target)\n",
    "    \n",
    "    ## split data and targetinto L slices\n",
    "    split_data = np.asarray(np.array_split(Data,L, axis = 0))\n",
    "    split_target = np.array(np.array_split(Target, L))\n",
    "    ## list to store errors rate of each slice prediction \n",
    "    errors = []\n",
    "\n",
    "    ##for L slices take one slice as test and the rest as training\n",
    "    for i in range(L):\n",
    "            # test_data and test_targetfor a cartain slice in L\n",
    "            data_test = split_data[i]\n",
    "            target_test = split_target[i]\n",
    "            data_train = np.concatenate([split_data[j] for j in range(L) if j != i])\n",
    "            target_train = np.concatenate([split_target[j] for j in range(L) if j != i])\n",
    "\n",
    "            slice_prediction = k_nearest_neighbor(K,data_train,target_train,data_test)\n",
    "            prediction_error_rate = error_rate(target_test, slice_prediction)\n",
    "            errors.append(prediction_error_rate)\n",
    "            \n",
    "    error_rate_mean = np.mean(errors)\n",
    "    error_rate_StandardDiviation = np.std(errors)\n",
    "    #print(\"Error rate mean is: {}%,  Error rate standard deviation is: {}%\".format(error_rate_mean,error_rate_StandardDiviation))\n",
    "    return error_rate_mean,error_rate_StandardDiviation"
   ]
  },
  {
   "cell_type": "code",
   "execution_count": 13,
   "metadata": {},
   "outputs": [],
   "source": [
    "errors = []\n",
    "L=[2,5,10]\n",
    "K=[1,3,5,9,11]\n",
    "for l in L:\n",
    "    for k in K:\n",
    "        errors.append([cross_validation(data,target,l,k)])\n",
    "errors = np.reshape(np.asarray(errors),(len(errors),2))\n"
   ]
  },
  {
   "cell_type": "code",
   "execution_count": 14,
   "metadata": {},
   "outputs": [
    {
     "data": {
      "text/html": [
       "<div>\n",
       "<style scoped>\n",
       "    .dataframe tbody tr th:only-of-type {\n",
       "        vertical-align: middle;\n",
       "    }\n",
       "\n",
       "    .dataframe tbody tr th {\n",
       "        vertical-align: top;\n",
       "    }\n",
       "\n",
       "    .dataframe thead tr th {\n",
       "        text-align: left;\n",
       "    }\n",
       "</style>\n",
       "<table border=\"1\" class=\"dataframe\">\n",
       "  <thead>\n",
       "    <tr>\n",
       "      <th></th>\n",
       "      <th colspan=\"2\" halign=\"left\">F=2</th>\n",
       "      <th colspan=\"2\" halign=\"left\">F=5</th>\n",
       "      <th colspan=\"2\" halign=\"left\">F=10</th>\n",
       "    </tr>\n",
       "    <tr>\n",
       "      <th></th>\n",
       "      <th>mean</th>\n",
       "      <th>stddiv</th>\n",
       "      <th>mean</th>\n",
       "      <th>stddiv</th>\n",
       "      <th>mean</th>\n",
       "      <th>stddiv</th>\n",
       "    </tr>\n",
       "  </thead>\n",
       "  <tbody>\n",
       "    <tr>\n",
       "      <th>K1</th>\n",
       "      <td>4.006617</td>\n",
       "      <td>0.109067</td>\n",
       "      <td>3.504952</td>\n",
       "      <td>1.286642</td>\n",
       "      <td>2.337368</td>\n",
       "      <td>1.626533</td>\n",
       "    </tr>\n",
       "    <tr>\n",
       "      <th>K3</th>\n",
       "      <td>4.228963</td>\n",
       "      <td>0.554130</td>\n",
       "      <td>3.337976</td>\n",
       "      <td>1.038448</td>\n",
       "      <td>2.281192</td>\n",
       "      <td>1.729775</td>\n",
       "    </tr>\n",
       "    <tr>\n",
       "      <th>K5</th>\n",
       "      <td>4.785570</td>\n",
       "      <td>0.331227</td>\n",
       "      <td>3.560662</td>\n",
       "      <td>0.967082</td>\n",
       "      <td>2.559590</td>\n",
       "      <td>1.879733</td>\n",
       "    </tr>\n",
       "    <tr>\n",
       "      <th>k9</th>\n",
       "      <td>5.508905</td>\n",
       "      <td>0.497769</td>\n",
       "      <td>4.283658</td>\n",
       "      <td>1.388178</td>\n",
       "      <td>3.338920</td>\n",
       "      <td>2.018966</td>\n",
       "    </tr>\n",
       "    <tr>\n",
       "      <th>k11</th>\n",
       "      <td>5.786992</td>\n",
       "      <td>0.775856</td>\n",
       "      <td>4.283813</td>\n",
       "      <td>1.144731</td>\n",
       "      <td>3.283985</td>\n",
       "      <td>2.160362</td>\n",
       "    </tr>\n",
       "  </tbody>\n",
       "</table>\n",
       "</div>"
      ],
      "text/plain": [
       "          F=2                 F=5                F=10          \n",
       "         mean    stddiv      mean    stddiv      mean    stddiv\n",
       "K1   4.006617  0.109067  3.504952  1.286642  2.337368  1.626533\n",
       "K3   4.228963  0.554130  3.337976  1.038448  2.281192  1.729775\n",
       "K5   4.785570  0.331227  3.560662  0.967082  2.559590  1.879733\n",
       "k9   5.508905  0.497769  4.283658  1.388178  3.338920  2.018966\n",
       "k11  5.786992  0.775856  4.283813  1.144731  3.283985  2.160362"
      ]
     },
     "execution_count": 14,
     "metadata": {},
     "output_type": "execute_result"
    }
   ],
   "source": [
    "df_2=pd.DataFrame(data=errors[:5], index=[\"K1\",\"K3\",\"K5\",\"k9\",\"k11\"], columns=[\"mean\",\"stddiv\"])\n",
    "df_2.columns=pd.MultiIndex.from_product([['F=2'],df_2.columns])\n",
    "df_5=pd.DataFrame(data=errors[5:10], index=[\"K1\",\"K3\",\"K5\",\"k9\",\"k11\"], columns=[\"mean\",\"stddiv\"])\n",
    "df_5.columns=pd.MultiIndex.from_product([['F=5'],df_5.columns])\n",
    "df_10=pd.DataFrame(data=errors[10:15], index=[\"K1\",\"K3\",\"K5\",\"k9\",\"k11\"], columns=[\"mean\",\"stddiv\"])\n",
    "df_10.columns=pd.MultiIndex.from_product([['F=10'],df_10.columns])#\n",
    "df_ = pd.concat([df_2,df_5,df_10],axis=1)\n",
    "df_"
   ]
  },
  {
   "cell_type": "markdown",
   "metadata": {},
   "source": [
    "As we see in the result here , having 10 folds and 3 neighbors for comparision gives the lowest error rate!"
   ]
  },
  {
   "cell_type": "code",
   "execution_count": null,
   "metadata": {},
   "outputs": [],
   "source": []
  }
 ],
 "metadata": {
  "kernelspec": {
   "display_name": "Python 3",
   "language": "python",
   "name": "python3"
  },
  "language_info": {
   "codemirror_mode": {
    "name": "ipython",
    "version": 3
   },
   "file_extension": ".py",
   "mimetype": "text/x-python",
   "name": "python",
   "nbconvert_exporter": "python",
   "pygments_lexer": "ipython3",
   "version": "3.7.6"
  }
 },
 "nbformat": 4,
 "nbformat_minor": 4
}
