{
 "cells": [
  {
   "cell_type": "code",
   "execution_count": 5,
   "id": "309cbabc",
   "metadata": {},
   "outputs": [
    {
     "name": "stderr",
     "output_type": "stream",
     "text": [
      "Using custom data configuration default-1be2fdcf59742fff\n",
      "Reusing dataset json (/home/fb198/.cache/huggingface/datasets/json/default-1be2fdcf59742fff/0.0.0)\n"
     ]
    },
    {
     "name": "stdout",
     "output_type": "stream",
     "text": [
      "first five rows in dataframe \n",
      "                                                 text        label_numerical  \\\n",
      "0   Fragmentiert vorliegende 0,5 cm große Probeen...  [0, 0, 1, 1, 0, 0, 0]   \n",
      "1   1 (rechts Basis medial): Eine maximal 1,3 cm ...  [0, 1, 0, 0, 1, 0, 0]   \n",
      "2  Nachbericht:  Im nachträglich eingebetteten Fe...  [0, 0, 0, 0, 1, 0, 0]   \n",
      "3   jeweils 0,5 cm durchmessende Proben vom Darm ...  [1, 0, 0, 1, 0, 0, 0]   \n",
      "4   1. Lymphknoten Milzhilus: Ein 1,6 x 1,3 x 0,5...  [1, 0, 1, 0, 0, 0, 0]   \n",
      "\n",
      "                     label  \n",
      "0  [stomach, inflammation]  \n",
      "1    [prostate, carcinoma]  \n",
      "2              [carcinoma]  \n",
      "3    [colon, inflammation]  \n",
      "4         [colon, stomach]  \n",
      "number of samples in training data 3813, number of samples in testing data 424\n"
     ]
    }
   ],
   "source": [
    "\n",
    "multi_path = multi_path = \"/home/fb198/BA/DataNephroTexts/classification_data/filtered_multi_labeled_final.json\"\n",
    "data = datasets.Dataset.from_json(multi_path)\n",
    "data\n",
    "\n",
    "index2labelname = {7:'colon',\n",
    "                   1:'prostate',\n",
    "                   2:'stomach',\n",
    "                   3:'inflammation',\n",
    "                   4:'carcinoma',\n",
    "                   5:'adenoma',\n",
    "                   6:'BPH'}\n",
    "labelname2index = {'colon': 7,\n",
    "                     'prostate': 1,\n",
    "                     'stomach': 2,\n",
    "                     'inflammation': 3,\n",
    "                     'carcinoma': 4,\n",
    "                     'adenoma': 5,\n",
    "                     'BPH': 6}\n",
    "index2labelnamelist = ['colon', 'prostate', 'stomach', 'inflammation', 'carcinoma', 'adenoma', 'BPH']\n",
    "\n",
    "\n",
    "df_mulitlabel = pd.DataFrame(data)\n",
    "labels_list = df_mulitlabel.label.tolist()\n",
    "#labels_list[:2]\n",
    "for idx, l in enumerate(labels_list):\n",
    "    temp = []\n",
    "    for idx_, i in enumerate(l):\n",
    "        if(i == 1):\n",
    "            temp.append(index2labelnamelist[idx_])\n",
    "    labels_list[idx] = temp\n",
    "df_mulitlabel['labels_test'] = labels_list\n",
    "df_mulitlabel.columns = [\"text\", \"label_numerical\", \"label\"]\n",
    "print(f\"first five rows in dataframe \\n {df_mulitlabel.head(5)}\")\n",
    "\n",
    "\n",
    "\n",
    "x_train, x_test, y_train, y_test = split_train_test(df_mulitlabel['text'].tolist(), df_mulitlabel['label'].tolist())\n",
    "x_tr, x_val, y_tr, y_val = split_train_test(x_train, y_train)\n",
    "print(f\"number of samples in training data {len(x_train)}, number of samples in testing data {len(x_test)}\")\n",
    "\n",
    "## binarize labels\n",
    "binarizer = _binarize(df_mulitlabel['label'].tolist())\n"
   ]
  },
  {
   "cell_type": "code",
   "execution_count": 4,
   "id": "dddd1978",
   "metadata": {},
   "outputs": [],
   "source": [
    "class MultiLDataset(Dataset):\n",
    "\n",
    "    def __init__(self,\n",
    "                 texts: list,\n",
    "                 labels: list,\n",
    "                 tokenizer,\n",
    "                 max_len: int,\n",
    "                 binarizer):\n",
    "        self.binarizer = binarizer\n",
    "        self.tokenizer = tokenizer\n",
    "        self.texts = texts\n",
    "        self.labels : np.ndarray =  self.binarizer.transform(labels)#np.asarray(labels)# \n",
    "        self.max_len = max_len\n",
    "\n",
    "\n",
    "    def __len__(self):\n",
    "        return len(self.texts)\n",
    "\n",
    "    def __getitem__(self, item_idx):\n",
    "        text: str = self.texts[item_idx]\n",
    "        inputs = self.tokenizer.encode_plus(\n",
    "            text,\n",
    "            None,\n",
    "            add_special_tokens=True,\n",
    "            max_length=self.max_len,\n",
    "            padding='max_length',\n",
    "            return_token_type_ids=False,\n",
    "            return_attention_mask=True,\n",
    "            truncation=True,\n",
    "            return_tensors='pt'\n",
    "        )\n",
    "\n",
    "        input_ids = inputs['input_ids'].flatten()\n",
    "        attn_mask = inputs['attention_mask'].flatten()\n",
    "\n",
    "        return {'input_ids': input_ids,\n",
    "                'attention_mask': attn_mask,\n",
    "                'label': torch.tensor(self.labels[item_idx], dtype=torch.float)\n",
    "                }\n",
    "\n",
    "\n",
    "class DataModule(pl.LightningDataModule):\n",
    "\n",
    "    ## binarizer is automatically set to None\n",
    "    ## but it must be initialized with a\n",
    "    ## binarizer, such as\n",
    "    def __init__(self, x_tr_:list, y_tr_:list,\\\n",
    "                 x_val_:list, y_val_:list,\\\n",
    "                 x_test_:list, y_test_:list,\n",
    "                 tokenizer_, batch_size=16, max_token_len=200,\n",
    "                 binarizer=None):\n",
    "\n",
    "        super().__init__()\n",
    "        self.binarizer = binarizer\n",
    "        self.tr_text = x_tr_\n",
    "        self.tr_label = y_tr_\n",
    "        self.val_text = x_val_\n",
    "        self.val_label = y_val_\n",
    "        self.test_text = x_test_\n",
    "        self.test_label = y_test_\n",
    "        self.tokenizer = tokenizer_\n",
    "        self.batch_size = batch_size\n",
    "        self.max_token_len = max_token_len\n",
    "\n",
    "    def setup(self, stage=None):\n",
    "        self.train_dataset = MultiLDataset(texts=self.tr_text,\n",
    "                                       labels=self.tr_label,\n",
    "                                       tokenizer=self.tokenizer, max_len=self.max_token_len, binarizer=self.binarizer)\n",
    "        self.val_dataset = MultiLDataset(texts=self.val_text, labels=self.val_label, tokenizer=self.tokenizer,\n",
    "                                     max_len=self.max_token_len, binarizer=self.binarizer)\n",
    "        self.test_dataset = MultiLDataset(texts=self.test_text, labels=self.test_label, tokenizer=self.tokenizer,\n",
    "                                      max_len=self.max_token_len, binarizer=self.binarizer)\n",
    "\n",
    "\n",
    "    def train_dataloader(self):\n",
    "        return DataLoader(self.train_dataset, batch_size=self.batch_size, shuffle=True, num_workers=4)\n",
    "\n",
    "    def val_dataloader(self):\n",
    "        return DataLoader(self.val_dataset, batch_size=16)\n",
    "\n",
    "    def test_dataloader(self):\n",
    "        return DataLoader(self.test_dataset, batch_size=16)\n",
    "\n",
    "\n",
    "# we will use the BERT base model(the smaller one)\n",
    "class LabelsClassifier(pl.LightningModule):\n",
    "    # Set up the classifier\n",
    "    def __init__(self,  n_classes:int=7, steps_per_epoch=None, n_epochs=3, lr=2e-5): #bert_model,\n",
    "        super(LabelsClassifier,self).__init__()\n",
    "        \n",
    "\n",
    "        self.bert = BertModel.from_pretrained(hyperparams_test.bert_model, return_dict=True)\n",
    "        #self.bert = AutoModelForSequenceClassification.from_pretrained(bert_model, num_labels=n_classes,return_dict=True)\n",
    "        self.classifier = torch.nn.Linear(self.bert.config.hidden_size, n_classes)\n",
    "        self.steps_per_epoch = steps_per_epoch\n",
    "        self.n_epochs = n_epochs\n",
    "        self.lr = lr\n",
    "        self.criterion = nn.BCEWithLogitsLoss()\n",
    "\n",
    "    def forward(self, input_ids, attn_mask):\n",
    "        output = self.bert(input_ids=input_ids, attention_mask=attn_mask)\n",
    "        output = self.classifier(output.pooler_output)\n",
    "\n",
    "        return output\n",
    "\n",
    "    def training_step(self, batch, batch_idx):\n",
    "        input_ids = batch['input_ids']\n",
    "        attention_mask = batch['attention_mask']\n",
    "        labels = batch['label']\n",
    "\n",
    "        outputs = self(input_ids, attention_mask)\n",
    "        loss = self.criterion(outputs, labels)\n",
    "        self.log('train_loss', loss, prog_bar=True, logger=True)\n",
    "\n",
    "        return {\"loss\": loss, \"predictions\": outputs, \"labels\": labels}\n",
    "\n",
    "    def validation_step(self, batch, batch_idx):\n",
    "        input_ids = batch['input_ids']\n",
    "        attention_mask = batch['attention_mask']\n",
    "        labels = batch['label']\n",
    "\n",
    "        outputs = self(input_ids, attention_mask)\n",
    "        loss = self.criterion(outputs, labels)\n",
    "        self.log('val_loss', loss, prog_bar=True, logger=True)\n",
    "\n",
    "        return loss\n",
    "\n",
    "    def test_step(self, batch, batch_idx):\n",
    "        input_ids = batch['input_ids']\n",
    "        attention_mask = batch['attention_mask']\n",
    "        labels = batch['label']\n",
    "\n",
    "        outputs = self(input_ids, attention_mask)\n",
    "        loss = self.criterion(outputs, labels)\n",
    "        self.log('test_loss', loss, prog_bar=True, logger=True)\n",
    "\n",
    "        return loss\n",
    "\n",
    "    def configure_optimizers(self):\n",
    "        optimizer = AdamW(self.parameters(), lr=self.lr)\n",
    "        warmup_steps = self.steps_per_epoch // 3\n",
    "        total_steps = self.steps_per_epoch * self.n_epochs - warmup_steps\n",
    "\n",
    "        scheduler = get_linear_schedule_with_warmup(optimizer, warmup_steps, total_steps)\n",
    "\n",
    "        return [optimizer], [scheduler]\n",
    "\n",
    "### move to antoher folder\n",
    "\n",
    "def _binarize(labels):\n",
    "\n",
    "    #print(MultiLabelBinarizer().fit(labels).classes_.shape)\n",
    "    return MultiLabelBinarizer().fit(labels)\n",
    "\n",
    "def split_train_test(texts:list, labels:list, random_seed=99):\n",
    "\n",
    "    x_train, x_test, y_train, y_test = \\\n",
    "            train_test_split(texts, labels,\\\n",
    "                            test_size = 0.1, random_state=random_seed,\\\n",
    "                             shuffle=True)\n",
    "    return x_train, x_test, y_train, y_test\n",
    "\n",
    "def func_utf8(text):\n",
    "    try:\n",
    "        return text.encode(\"latin-1\").decode(\"UTF-8\")\n",
    "    except Exception as E:\n",
    "        return  text\n",
    "\n",
    "\n",
    "def remwithre(text, there=re.compile(re.escape('Mit freundlich')+'.*')):\n",
    "    return there.sub('', text)\n",
    "\n",
    "def modelCheckpoint(filename = None, top_models = 10, mode='min'):\n",
    "    #pytorch_lightning.callbacks.ModelCheckpoint(...)\n",
    "    if(type(filename) == type(None)):\n",
    "        filename = 'Labels-{epoch:02d}-{val_loss:.2f}-{train_loss:.2f}'\n",
    "    return ModelCheckpoint(monitor = 'val_loss' ,# monitored quantity,\n",
    "                           filename=filename,\n",
    "                           save_top_k=top_models ,# save the top k models\n",
    "                           mode=mode,) # mode of the monitored quantity for optimization)"
   ]
  },
  {
   "cell_type": "code",
   "execution_count": 56,
   "id": "0cd13673",
   "metadata": {},
   "outputs": [],
   "source": [
    "import pandas as pd\n",
    "import numpy as np\n",
    "import json\n",
    "import os\n",
    "import re\n",
    "import datasets\n",
    "from pytorch_lightning.loggers import WandbLogger \n",
    "from sklearn.metrics import confusion_matrix\n",
    "from torch.utils.data import DataLoader,Dataset,RandomSampler, SequentialSampler\n",
    "import pytorch_lightning as pl\n",
    "from pytorch_lightning.callbacks import ModelCheckpoint\n",
    "from typing import List\n",
    "from transformers import BertModel,BertTokenizer,AdamW, get_linear_schedule_with_warmup\n",
    "from transformers import AutoModelForSequenceClassification, PreTrainedTokenizerFast\n",
    "from torch import nn ,cuda\n",
    "import torch\n",
    "from sklearn.model_selection import train_test_split\n",
    "from sklearn.preprocessing import MultiLabelBinarizer\n",
    "from transformers import BertTokenizer, BertTokenizerFast\n",
    "from sklearn.metrics import multilabel_confusion_matrix\n",
    "# cuda\n",
    "#device = torch.device(\"cuda:0\" if torch.cuda.is_available() else \"cpu\")\n"
   ]
  },
  {
   "cell_type": "markdown",
   "id": "e4b9a48e",
   "metadata": {},
   "source": [
    "## steps to load pl.lightningmodule\n",
    "\n",
    "## create argparse containing number of labels and bert_model_path of the pretrained\n",
    "## adjust the class to reading these two info from the args\n",
    "## call it by loading it from checkpoint\n",
    "###               LabelsClassifier.load_from_checkpoint"
   ]
  },
  {
   "cell_type": "code",
   "execution_count": 7,
   "id": "69fa6e34",
   "metadata": {},
   "outputs": [
    {
     "data": {
      "text/plain": [
       "'bert-base-german-cased'"
      ]
     },
     "execution_count": 7,
     "metadata": {},
     "output_type": "execute_result"
    }
   ],
   "source": [
    "from argparse import Namespace\n",
    "\n",
    "args = {\n",
    "    'num_classes': 7,\n",
    "    'bert_model': \"bert-base-german-cased\",\n",
    "}\n",
    "\n",
    "hyperparams_test = Namespace(**args)\n",
    "#LabelsClassifier.load_from_checkpoint(\n",
    "#                        check_point_wp_v1000)\n",
    "hyperparams_test.bert_model"
   ]
  },
  {
   "cell_type": "code",
   "execution_count": 10,
   "id": "cba882c8",
   "metadata": {},
   "outputs": [
    {
     "name": "stderr",
     "output_type": "stream",
     "text": [
      "Some weights of the model checkpoint at /home/fb198/BA/nlp-in-diagnostic-texts-from-nephropathology-master/LanguageModelling/most_relevant/wp_v1000_PT were not used when initializing BertModel: ['cls.predictions.transform.dense.weight', 'cls.predictions.transform.dense.bias', 'cls.predictions.bias', 'cls.predictions.transform.LayerNorm.bias', 'cls.predictions.transform.LayerNorm.weight', 'cls.predictions.decoder.weight', 'cls.predictions.decoder.bias']\n",
      "- This IS expected if you are initializing BertModel from the checkpoint of a model trained on another task or with another architecture (e.g. initializing a BertForSequenceClassification model from a BertForPreTraining model).\n",
      "- This IS NOT expected if you are initializing BertModel from the checkpoint of a model that you expect to be exactly identical (initializing a BertForSequenceClassification model from a BertForSequenceClassification model).\n",
      "Some weights of BertModel were not initialized from the model checkpoint at /home/fb198/BA/nlp-in-diagnostic-texts-from-nephropathology-master/LanguageModelling/most_relevant/wp_v1000_PT and are newly initialized: ['bert.pooler.dense.bias', 'bert.pooler.dense.weight']\n",
      "You should probably TRAIN this model on a down-stream task to be able to use it for predictions and inference.\n"
     ]
    }
   ],
   "source": [
    "filter_v1000 = \"/home/fb198/BA/classification/multi_class/lightning_logs/version_8_filtered_sp_v1000/checkpoints/Labels-epoch=08-val_loss=0.27-train_loss=0.24.ckpt\"\n",
    "#pretrained_model_pth = \"/home/fb198/BA/nlp-in-diagnostic-texts-from-nephropathology-master/LanguageModelling/LanguageModelling/filtered_data_training_bert/sentencepiece_v1000_filtered_training_data\"\n",
    "wp_classification_v1000 = \"/home/fb198/BA/classification/multi_class/lightning_logs_wp_v1000_cross_validation/version_5/checkpoints/Kfold_5_model_bert-base-german-cased_ep_-v9.ckpt\"\n",
    "wp_pre_trained_model = \"/home/fb198/BA/nlp-in-diagnostic-texts-from-nephropathology-master/LanguageModelling/most_relevant/wp_v1000_PT\"\n",
    "tokenizer = PreTrainedTokenizerFast.from_pretrained(wp_pre_trained_model)\n",
    "from argparse import Namespace\n",
    "\n",
    "args = {\n",
    "    'num_classes': 7,\n",
    "    'bert_model': \"/home/fb198/BA/nlp-in-diagnostic-texts-from-nephropathology-master/LanguageModelling/most_relevant/wp_v1000_PT\",\n",
    "}\n",
    "\n",
    "hyperparams_test = Namespace(**args)\n",
    "#LabelsClassifier.load_from_checkpoint(\n",
    "#                        check_point_wp_v1000)\n",
    "#hyperparams_test.bert_model\n",
    "model = LabelsClassifier.load_from_checkpoint(\n",
    "                        wp_classification_v1000)"
   ]
  },
  {
   "cell_type": "code",
   "execution_count": 14,
   "id": "f0f02576",
   "metadata": {},
   "outputs": [],
   "source": [
    "def predict(description, opt_thresh):\n",
    "    text_enc = tokenizer.encode_plus(\n",
    "            description,\n",
    "            None,\n",
    "            add_special_tokens=True,\n",
    "            max_length= 512,\n",
    "            padding = 'max_length',\n",
    "            return_token_type_ids= False,\n",
    "            return_attention_mask= True,\n",
    "            truncation=True,\n",
    "            return_tensors = 'pt'      \n",
    "    )\n",
    "    model.to('cpu')\n",
    "    outputs = model(text_enc['input_ids'], text_enc['attention_mask'])\n",
    "    pred_out = outputs[0].detach().numpy()\n",
    "    \n",
    "    preds = [(pred > opt_thresh) for pred in pred_out ]\n",
    "\n",
    "    preds = np.asarray(preds)\n",
    "\n",
    "    new_preds = preds.reshape(1,-1).astype(int)\n",
    "\n",
    "    pred_tags = new_preds\n",
    "    return pred_tags "
   ]
  },
  {
   "cell_type": "code",
   "execution_count": 135,
   "id": "2b236036",
   "metadata": {
    "scrolled": true
   },
   "outputs": [],
   "source": [
    "opt_thresh_ = 0.4100000000000002\n",
    "clinical_texts = df_mulitlabel.text.tolist()\n",
    "trues_, preds = [], []\n",
    "tags_list = []\n",
    "for i in range(500):#,500,1000,1520]:\n",
    "    tags = predict(clinical_texts[i],opt_thresh_)\n",
    "    #print(\"========== Test Result ==========\")\n",
    "    #print(\"description: \\n\")\n",
    "    #print(clinical_texts[i][:500], \"\\n==========   ==========   ==========\")\n",
    "    #print(\"real label: \", df_mulitlabel.iloc[i].label)\n",
    "    #print(\"==========   ==========   ==========\")\n",
    "    #print(\"predicted labels: \")\n",
    "    #print(binarizer.inverse_transform(tags))\n",
    "    tags_list.append(tags[0])\n",
    "    trues_.append(df_mulitlabel.iloc[i].label)\n",
    "    preds.append(list(binarizer.inverse_transform(tags)[0]))\n",
    "tags_list = np.asarray(tags_list)\n",
    "    "
   ]
  },
  {
   "cell_type": "code",
   "execution_count": 36,
   "id": "d6fae90d",
   "metadata": {},
   "outputs": [],
   "source": [
    "labelname2index = {'colon': 7,\n",
    "                     'prostate': 1,\n",
    "                     'stomach': 2,\n",
    "                     'inflammation': 3,\n",
    "                     'carcinoma': 4,\n",
    "                     'adenoma': 5,\n",
    "                     'BPH': 6}"
   ]
  },
  {
   "cell_type": "code",
   "execution_count": 119,
   "id": "a85b2bd4",
   "metadata": {},
   "outputs": [],
   "source": [
    "cp_trues = trues_binarized.copy()\n",
    "cp_tags = tags_list.copy()\n"
   ]
  },
  {
   "cell_type": "code",
   "execution_count": 136,
   "id": "9f7f2aa1",
   "metadata": {},
   "outputs": [],
   "source": [
    "trues_binarized = binarizer.transform(trues_)\n",
    "trues_binarized\n",
    "#.ravel()\n",
    "binarized2idx = {\n",
    "                 6:2, ## stomach\n",
    "                 4:3, ## inflammation\n",
    "                 1:5, ## adenoma\n",
    "                 5:1, ## prostate\n",
    "                 2:4, ##carcinoma\n",
    "                 3:7, ##colon\n",
    "                 0:6 ##BPH\n",
    "}\n",
    "#index2labelnamelist = ['colon', 'prostate', 'stomach', 'inflammation', 'carcinoma', 'adenoma', 'BPH']\n",
    "def convert(matrix):\n",
    "    for idx_loc , vec_true in enumerate(matrix):\n",
    "        converted = [binarized2idx[idx_] if val == 1 else val for idx_,val  in enumerate(vec_true)]\n",
    "        matrix[idx_loc] = converted\n",
    "    return matrix \n",
    "converted_trues_binarized = convert(trues_binarized.copy())\n",
    "converted_tag = convert(tags_list.copy())"
   ]
  },
  {
   "cell_type": "code",
   "execution_count": 121,
   "id": "266f6cb3",
   "metadata": {},
   "outputs": [
    {
     "data": {
      "text/plain": [
       "array([[1628,    2,    1,    2,   11,    0,    0,    4],\n",
       "       [   0,   85,    0,    0,    0,    0,    0,    0],\n",
       "       [   4,    0,   89,    0,    0,    0,    0,    0],\n",
       "       [  24,    0,    0,   40,    0,    0,    0,    0],\n",
       "       [  34,    0,    0,    0,   54,    0,    0,    0],\n",
       "       [   7,    0,    0,    0,    0,   13,    0,    0],\n",
       "       [   7,    0,    0,    0,    0,    0,    0,    0],\n",
       "       [   9,    0,    0,    0,    0,    0,    0,   86]])"
      ]
     },
     "execution_count": 121,
     "metadata": {},
     "output_type": "execute_result"
    }
   ],
   "source": [
    "confusion_matrix(converted_trues_binarized.ravel(), converted_tag.ravel())"
   ]
  },
  {
   "cell_type": "code",
   "execution_count": 124,
   "id": "2594f702",
   "metadata": {},
   "outputs": [
    {
     "data": {
      "text/plain": [
       "array([[0, 0, 0, ..., 1, 0, 1],\n",
       "       [0, 0, 1, ..., 0, 1, 0],\n",
       "       [0, 0, 1, ..., 0, 0, 0],\n",
       "       ...,\n",
       "       [0, 0, 1, ..., 0, 1, 0],\n",
       "       [0, 0, 0, ..., 0, 0, 1],\n",
       "       [0, 0, 0, ..., 0, 1, 0]])"
      ]
     },
     "execution_count": 124,
     "metadata": {},
     "output_type": "execute_result"
    }
   ],
   "source": [
    "converted_tag"
   ]
  },
  {
   "cell_type": "code",
   "execution_count": 89,
   "id": "2f6f7e4d",
   "metadata": {},
   "outputs": [
    {
     "data": {
      "text/plain": [
       "array([[0, 0, 0, 0, 3, 0, 2],\n",
       "       [0, 5, 0, 0, 0, 0, 2],\n",
       "       [0, 5, 0, 0, 0, 1, 0],\n",
       "       [0, 0, 4, 0, 0, 0, 2],\n",
       "       [0, 0, 4, 7, 0, 0, 0],\n",
       "       [0, 0, 4, 0, 0, 0, 2],\n",
       "       [6, 0, 0, 7, 0, 0, 0],\n",
       "       [0, 0, 4, 0, 0, 1, 0],\n",
       "       [0, 0, 0, 7, 0, 0, 0],\n",
       "       [0, 0, 4, 0, 0, 0, 0],\n",
       "       [0, 0, 4, 0, 0, 1, 0],\n",
       "       [0, 0, 0, 0, 0, 1, 0],\n",
       "       [0, 0, 0, 0, 0, 0, 2],\n",
       "       [0, 0, 4, 0, 0, 1, 0],\n",
       "       [0, 0, 4, 0, 0, 1, 0],\n",
       "       [0, 0, 0, 0, 0, 0, 2],\n",
       "       [0, 0, 4, 7, 0, 0, 0],\n",
       "       [0, 0, 0, 0, 0, 1, 0],\n",
       "       [0, 0, 0, 0, 3, 0, 2],\n",
       "       [0, 0, 0, 7, 0, 0, 0]])"
      ]
     },
     "execution_count": 89,
     "metadata": {},
     "output_type": "execute_result"
    }
   ],
   "source": [
    "converted_trues_binarized"
   ]
  },
  {
   "cell_type": "code",
   "execution_count": 100,
   "id": "2bba7b61",
   "metadata": {},
   "outputs": [
    {
     "data": {
      "text/plain": [
       "[(0, 2752), (1, 167), (7, 162), (4, 151), (2, 124), (3, 93), (5, 36), (6, 15)]"
      ]
     },
     "execution_count": 100,
     "metadata": {},
     "output_type": "execute_result"
    }
   ],
   "source": [
    "##### from collections import Counter\n",
    "Counter(converted_trues_binarized.ravel()).most_common()  "
   ]
  },
  {
   "cell_type": "code",
   "execution_count": 161,
   "id": "5d20f16c",
   "metadata": {},
   "outputs": [
    {
     "data": {
      "text/plain": [
       "((500, 7), (500, 7))"
      ]
     },
     "execution_count": 161,
     "metadata": {},
     "output_type": "execute_result"
    }
   ],
   "source": []
  },
  {
   "cell_type": "code",
   "execution_count": 101,
   "id": "0e041825",
   "metadata": {},
   "outputs": [
    {
     "data": {
      "text/plain": [
       "[(0, 2837), (1, 169), (7, 154), (4, 124), (2, 122), (3, 66), (5, 28)]"
      ]
     },
     "execution_count": 101,
     "metadata": {},
     "output_type": "execute_result"
    }
   ],
   "source": [
    "Counter(converted_tag.ravel()).most_common()"
   ]
  },
  {
   "cell_type": "code",
   "execution_count": 97,
   "id": "7aed6cc0",
   "metadata": {},
   "outputs": [
    {
     "data": {
      "text/plain": [
       "array([[[ 627,  121],\n",
       "        [  36, 2716]],\n",
       "\n",
       "       [[3331,    2],\n",
       "        [   0,  167]],\n",
       "\n",
       "       [[3373,    3],\n",
       "        [   5,  119]],\n",
       "\n",
       "       [[3403,    4],\n",
       "        [  31,   62]],\n",
       "\n",
       "       [[3330,   19],\n",
       "        [  46,  105]],\n",
       "\n",
       "       [[3464,    0],\n",
       "        [   8,   28]],\n",
       "\n",
       "       [[3485,    0],\n",
       "        [  15,    0]],\n",
       "\n",
       "       [[3330,    8],\n",
       "        [  16,  146]]])"
      ]
     },
     "execution_count": 97,
     "metadata": {},
     "output_type": "execute_result"
    }
   ],
   "source": [
    "multilabel_confusion_matrix(converted_trues_binarized.ravel(), converted_tag.ravel())"
   ]
  },
  {
   "cell_type": "code",
   "execution_count": 129,
   "id": "84252ba8",
   "metadata": {},
   "outputs": [
    {
     "data": {
      "text/plain": [
       "array([0, 0, 0, 0, 1, 0, 1])"
      ]
     },
     "execution_count": 129,
     "metadata": {},
     "output_type": "execute_result"
    }
   ],
   "source": [
    "trues_binarized[0]"
   ]
  },
  {
   "cell_type": "code",
   "execution_count": 244,
   "id": "fe860a90",
   "metadata": {},
   "outputs": [],
   "source": [
    "from sklearn.metrics import roc_auc_score\n",
    "from sklearn.metrics import roc_curve, auc\n",
    "from itertools import cycle\n",
    "from sklearn.metrics import precision_score\n",
    "from sklearn.metrics import classification_report"
   ]
  },
  {
   "cell_type": "code",
   "execution_count": 254,
   "id": "24f63fbb",
   "metadata": {},
   "outputs": [
    {
     "data": {
      "text/plain": [
       "0.03"
      ]
     },
     "execution_count": 254,
     "metadata": {},
     "output_type": "execute_result"
    }
   ],
   "source": [
    "average_precision_score(trues_binarized[:, i], tags_list[:, i])"
   ]
  },
  {
   "cell_type": "code",
   "execution_count": 255,
   "id": "e6f4379a",
   "metadata": {
    "scrolled": true
   },
   "outputs": [],
   "source": [
    "fpr = dict()\n",
    "tpr = dict()\n",
    "n_classes = trues_binarized.shape[1]\n",
    "\n",
    "roc_auc = dict()\n",
    "for i in range(n_classes):\n",
    "    fpr[i], tpr[i], _ = roc_curve(trues_binarized[:, i], tags_list[:, i])\n",
    "    roc_auc[i] = auc(fpr[i], tpr[i])\n",
    "\n",
    "# Compute micro-average ROC curve and ROC area\n",
    "fpr[\"micro\"], tpr[\"micro\"], _ = roc_curve(trues_binarized.ravel(), tags_list.ravel())\n",
    "roc_auc[\"micro\"] = auc(fpr[\"micro\"], tpr[\"micro\"])"
   ]
  },
  {
   "cell_type": "code",
   "execution_count": 256,
   "id": "5696e435",
   "metadata": {},
   "outputs": [
    {
     "data": {
      "text/plain": [
       "array(['BPH', 'adenoma', 'carcinoma', 'colon', 'inflammation', 'prostate',\n",
       "       'stomach'], dtype=object)"
      ]
     },
     "execution_count": 256,
     "metadata": {},
     "output_type": "execute_result"
    }
   ],
   "source": [
    "binarizer.classes_"
   ]
  },
  {
   "cell_type": "code",
   "execution_count": 257,
   "id": "85f54d3c",
   "metadata": {},
   "outputs": [
    {
     "data": {
      "text/plain": [
       "{0: 0.5,\n",
       " 1: 0.8888888888888888,\n",
       " 2: 0.8204614888328051,\n",
       " 3: 0.9387829644239901,\n",
       " 4: 0.8284193284193284,\n",
       " 5: 0.9969969969969971,\n",
       " 6: 0.9758493479752918,\n",
       " 'micro': 0.9125769493844049}"
      ]
     },
     "execution_count": 257,
     "metadata": {},
     "output_type": "execute_result"
    }
   ],
   "source": [
    "roc_auc"
   ]
  },
  {
   "cell_type": "code",
   "execution_count": 258,
   "id": "3912e4f0",
   "metadata": {},
   "outputs": [
    {
     "data": {
      "image/png": "[encoded data removed]",
      "text/plain": [
       "<Figure size 432x288 with 1 Axes>"
      ]
     },
     "metadata": {
      "needs_background": "light"
     },
     "output_type": "display_data"
    }
   ],
   "source": [
    "plt.figure()\n",
    "lw = 2\n",
    "plt.plot(\n",
    "    fpr[2],\n",
    "    tpr[2],\n",
    "    color=\"darkorange\",\n",
    "    lw=lw,\n",
    "    label=\"ROC curve (area = %0.2f)\" % roc_auc[2],\n",
    ")\n",
    "plt.plot([0, 1], [0, 1], color=\"navy\", lw=lw, linestyle=\"--\")\n",
    "plt.xlim([0.0, 1.0])\n",
    "plt.ylim([0.0, 1.05])\n",
    "plt.xlabel(\"False Positive Rate\")\n",
    "plt.ylabel(\"True Positive Rate\")\n",
    "plt.title(\"Receiver operating characteristic example\")\n",
    "plt.legend(loc=\"lower right\")\n",
    "plt.show()"
   ]
  },
  {
   "cell_type": "code",
   "execution_count": 259,
   "id": "50846ef5",
   "metadata": {},
   "outputs": [
    {
     "data": {
      "image/png": "[encoded data removed]",
      "text/plain": [
       "<Figure size 720x576 with 1 Axes>"
      ]
     },
     "metadata": {
      "needs_background": "light"
     },
     "output_type": "display_data"
    }
   ],
   "source": [
    "# First aggregate all false positive rates\n",
    "all_fpr = np.unique(np.concatenate([fpr[i] for i in range(n_classes)]))\n",
    "\n",
    "# Then interpolate all ROC curves at this points\n",
    "mean_tpr = np.zeros_like(all_fpr)\n",
    "for i in range(n_classes):\n",
    "    mean_tpr += np.interp(all_fpr, fpr[i], tpr[i])\n",
    "\n",
    "# Finally average it and compute AUC\n",
    "mean_tpr /= n_classes\n",
    "\n",
    "fpr[\"macro\"] = all_fpr\n",
    "tpr[\"macro\"] = mean_tpr\n",
    "roc_auc[\"macro\"] = auc(fpr[\"macro\"], tpr[\"macro\"])\n",
    "\n",
    "# Plot all ROC curves\n",
    "plt.figure(figsize=(10,8))\n",
    "plt.plot(\n",
    "    fpr[\"micro\"],\n",
    "    tpr[\"micro\"],\n",
    "    label=\"micro-average ROC curve (area = {0:0.2f})\".format(roc_auc[\"micro\"]),\n",
    "    color=\"deeppink\",\n",
    "    linestyle=\":\",\n",
    "    linewidth=4,\n",
    ")\n",
    "\n",
    "plt.plot(\n",
    "    fpr[\"macro\"],\n",
    "    tpr[\"macro\"],\n",
    "    label=\"macro-average ROC curve (area = {0:0.2f})\".format(roc_auc[\"macro\"]),\n",
    "    color=\"navy\",\n",
    "    linestyle=\":\",\n",
    "    linewidth=4,\n",
    ")\n",
    "\n",
    "\"\"\"\n",
    "colors = cycle([\"aqua\", \"darkorange\", \"cornflowerblue\", 'green', 'pink',\"brown\", 'gray'])\n",
    "for i, color in zip(range(n_classes), colors):\n",
    "    plt.plot(\n",
    "        fpr[i],\n",
    "        tpr[i],\n",
    "        color=color,\n",
    "        lw=lw,\n",
    "        label=\"ROC curve of class {0} (area = {1:0.2f})\".format(i, roc_auc[i]),\n",
    "    )\n",
    "\"\"\"\n",
    "plt.plot([0, 1], [0, 1], \"k--\", lw=lw)\n",
    "plt.xlim([0.0, 1.0])\n",
    "plt.ylim([0.0, 1.05])\n",
    "plt.xlabel(\"False Positive Rate\")\n",
    "plt.ylabel(\"True Positive Rate\")\n",
    "plt.title(\"Some extension of Receiver operating characteristic to multiclass\")\n",
    "plt.legend(loc=\"lower right\")\n",
    "plt.show()\n"
   ]
  },
  {
   "cell_type": "code",
   "execution_count": 145,
   "id": "d44cd563",
   "metadata": {},
   "outputs": [
    {
     "name": "stdout",
     "output_type": "stream",
     "text": [
      "One-vs-One ROC AUC scores:\n",
      "0.849914 (macro),\n",
      "0.909117 (weighted by prevalence)\n",
      "One-vs-Rest ROC AUC scores:\n",
      "0.849914 (macro),\n",
      "0.909117 (weighted by prevalence)\n"
     ]
    }
   ],
   "source": [
    "\n",
    "\n",
    "macro_roc_auc_ovo = roc_auc_score(trues_binarized, tags_list, multi_class=\"ovo\", average=\"macro\")\n",
    "weighted_roc_auc_ovo = roc_auc_score(\n",
    "    trues_binarized, tags_list, multi_class=\"ovo\", average=\"weighted\"\n",
    ")\n",
    "macro_roc_auc_ovr = roc_auc_score(trues_binarized, tags_list, multi_class=\"ovr\", average=\"macro\")\n",
    "weighted_roc_auc_ovr = roc_auc_score(\n",
    "    trues_binarized, tags_list, multi_class=\"ovr\", average=\"weighted\"\n",
    ")\n",
    "print(\n",
    "    \"One-vs-One ROC AUC scores:\\n{:.6f} (macro),\\n{:.6f} \"\n",
    "    \"(weighted by prevalence)\".format(macro_roc_auc_ovo, weighted_roc_auc_ovo)\n",
    ")\n",
    "print(\n",
    "    \"One-vs-Rest ROC AUC scores:\\n{:.6f} (macro),\\n{:.6f} \"\n",
    "    \"(weighted by prevalence)\".format(macro_roc_auc_ovr, weighted_roc_auc_ovr)\n",
    ")"
   ]
  },
  {
   "cell_type": "code",
   "execution_count": 147,
   "id": "8462a238",
   "metadata": {},
   "outputs": [
    {
     "name": "stdout",
     "output_type": "stream",
     "text": [
      "One-vs-One ROC AUC scores:\n",
      "0.912577 (macro),\n",
      "0.909117 (weighted by prevalence)\n",
      "One-vs-Rest ROC AUC scores:\n",
      "0.912577 (macro),\n",
      "0.909117 (weighted by prevalence)\n"
     ]
    }
   ],
   "source": [
    "\n",
    "micro_roc_auc_ovo = roc_auc_score(trues_binarized, tags_list, multi_class=\"ovo\", average=\"micro\")\n",
    "weighted_roc_auc_ovo = roc_auc_score(\n",
    "    trues_binarized, tags_list, multi_class=\"ovo\", average=\"weighted\"\n",
    ")\n",
    "micro_roc_auc_ovr = roc_auc_score(trues_binarized, tags_list, multi_class=\"ovr\", average=\"micro\")\n",
    "weighted_roc_auc_ovr = roc_auc_score(\n",
    "    trues_binarized, tags_list, multi_class=\"ovr\", average=\"weighted\"\n",
    ")\n",
    "print(\n",
    "    \"One-vs-One ROC AUC scores:\\n{:.6f} (macro),\\n{:.6f} \"\n",
    "    \"(weighted by prevalence)\".format(micro_roc_auc_ovo, weighted_roc_auc_ovo)\n",
    ")\n",
    "print(\n",
    "    \"One-vs-Rest ROC AUC scores:\\n{:.6f} (macro),\\n{:.6f} \"\n",
    "    \"(weighted by prevalence)\".format(micro_roc_auc_ovr, weighted_roc_auc_ovr)\n",
    ")"
   ]
  },
  {
   "cell_type": "code",
   "execution_count": null,
   "id": "44ec5a7e",
   "metadata": {},
   "outputs": [],
   "source": []
  },
  {
   "cell_type": "markdown",
   "id": "732a706d",
   "metadata": {},
   "source": [
    "### PR curves"
   ]
  },
  {
   "cell_type": "code",
   "execution_count": 148,
   "id": "0e247adc",
   "metadata": {},
   "outputs": [],
   "source": [
    "# precision-recall curve and f1 for an imbalanced dataset\n",
    "from sklearn.datasets import make_classification\n",
    "from sklearn.linear_model import LogisticRegression\n",
    "from sklearn.model_selection import train_test_split\n",
    "from sklearn.metrics import precision_recall_curve\n",
    "from sklearn.metrics import f1_score\n",
    "from sklearn.metrics import auc\n",
    "from matplotlib import pyplot"
   ]
  },
  {
   "cell_type": "code",
   "execution_count": 176,
   "id": "80a99c77",
   "metadata": {},
   "outputs": [
    {
     "data": {
      "text/plain": [
       "'adenoma'"
      ]
     },
     "execution_count": 176,
     "metadata": {},
     "output_type": "execute_result"
    }
   ],
   "source": []
  },
  {
   "cell_type": "code",
   "execution_count": 169,
   "id": "97a5404c",
   "metadata": {},
   "outputs": [
    {
     "data": {
      "text/plain": [
       "array([0, 0, 0, ..., 0, 1, 0])"
      ]
     },
     "execution_count": 169,
     "metadata": {},
     "output_type": "execute_result"
    }
   ],
   "source": [
    "converted_trues_binarized.ravel()"
   ]
  },
  {
   "cell_type": "code",
   "execution_count": 177,
   "id": "be23ba0c",
   "metadata": {},
   "outputs": [
    {
     "data": {
      "image/png": "[encoded data removed]",
      "text/plain": [
       "<Figure size 432x288 with 1 Axes>"
      ]
     },
     "metadata": {
      "needs_background": "light"
     },
     "output_type": "display_data"
    }
   ],
   "source": [
    "n_calsses = trues_binarized.shape[0]\n",
    "precision = dict()\n",
    "recall = dict()\n",
    "for i in range(n_classes):\n",
    "    precision[i], recall[i], _ = precision_recall_curve(trues_binarized[:, i],\n",
    "                                                        tags_list[:, i])\n",
    "    plt.plot(recall[i], precision[i], lw=2, label=f'class {binarizer.classes_[i]}'.format(i))\n",
    "plt.xlabel(\"recall\")\n",
    "plt.ylabel(\"precision\")\n",
    "plt.legend(loc=\"best\")\n",
    "plt.title(\"precision vs. recall curve\")\n",
    "plt.show()"
   ]
  },
  {
   "cell_type": "code",
   "execution_count": 178,
   "id": "a9047a89",
   "metadata": {},
   "outputs": [
    {
     "data": {
      "image/png": "[encoded data removed]",
      "text/plain": [
       "<Figure size 432x288 with 1 Axes>"
      ]
     },
     "metadata": {
      "needs_background": "light"
     },
     "output_type": "display_data"
    }
   ],
   "source": [
    "# roc curve\n",
    "fpr = dict()\n",
    "tpr = dict()\n",
    "\n",
    "for i in range(n_classes):\n",
    "    fpr[i], tpr[i], _ = roc_curve(trues_binarized[:, i],\n",
    "                                  tags_list[:, i])\n",
    "    plt.plot(fpr[i], tpr[i], lw=2, label=f'class {binarizer.classes_[i]}')\n",
    "\n",
    "plt.xlabel(\"false positive rate\")\n",
    "plt.ylabel(\"true positive rate\")\n",
    "plt.legend(loc=\"best\")\n",
    "plt.title(\"ROC curve\")\n",
    "plt.show()"
   ]
  },
  {
   "cell_type": "code",
   "execution_count": 179,
   "id": "00e7f047",
   "metadata": {},
   "outputs": [],
   "source": [
    "## for model comparision we need the micro averaged curve!"
   ]
  },
  {
   "cell_type": "code",
   "execution_count": 193,
   "id": "b675d28b",
   "metadata": {},
   "outputs": [
    {
     "data": {
      "text/plain": [
       "array([[0, 0, 0, ..., 1, 0, 1],\n",
       "       [0, 0, 1, ..., 0, 1, 0],\n",
       "       [0, 0, 1, ..., 0, 0, 0],\n",
       "       ...,\n",
       "       [0, 0, 1, ..., 0, 0, 0],\n",
       "       [0, 0, 0, ..., 0, 0, 1],\n",
       "       [0, 0, 1, ..., 0, 1, 0]])"
      ]
     },
     "execution_count": 193,
     "metadata": {},
     "output_type": "execute_result"
    }
   ],
   "source": [
    "#converted_tag\n"
   ]
  },
  {
   "cell_type": "code",
   "execution_count": 220,
   "id": "0e7b117f",
   "metadata": {},
   "outputs": [
    {
     "name": "stdout",
     "output_type": "stream",
     "text": [
      "0.97\n",
      "0.984\n",
      "0.87\n",
      "0.952\n",
      "0.93\n",
      "0.996\n"
     ]
    }
   ],
   "source": [
    "for i in range(6):\n",
    "    \n",
    "    print(precision_score(trues_binarized[:,i], tags_list[:,i], average='micro'))"
   ]
  },
  {
   "cell_type": "code",
   "execution_count": 218,
   "id": "0a5fb5d7",
   "metadata": {},
   "outputs": [
    {
     "data": {
      "text/plain": [
       "0.9457013574660633"
      ]
     },
     "execution_count": 218,
     "metadata": {},
     "output_type": "execute_result"
    }
   ],
   "source": [
    "precision_score(trues_binarized, tags_list, average='micro')\n",
    "#"
   ]
  },
  {
   "cell_type": "code",
   "execution_count": 194,
   "id": "27ffbcc6",
   "metadata": {},
   "outputs": [
    {
     "name": "stdout",
     "output_type": "stream",
     "text": [
      "              precision    recall  f1-score   support\n",
      "\n",
      "           0       0.00      0.00      0.00        15\n",
      "           1       1.00      0.78      0.88        36\n",
      "           2       0.85      0.70      0.76       151\n",
      "           3       0.95      0.90      0.92       162\n",
      "           4       0.94      0.67      0.78        93\n",
      "           5       0.99      1.00      0.99       167\n",
      "           6       0.98      0.96      0.97       124\n",
      "\n",
      "   micro avg       0.95      0.84      0.89       748\n",
      "   macro avg       0.81      0.71      0.76       748\n",
      "weighted avg       0.92      0.84      0.88       748\n",
      " samples avg       0.95      0.88      0.89       748\n",
      "\n"
     ]
    },
    {
     "name": "stderr",
     "output_type": "stream",
     "text": [
      "/home/fb198/anaconda3/lib/python3.9/site-packages/sklearn/metrics/_classification.py:1248: UndefinedMetricWarning: Precision and F-score are ill-defined and being set to 0.0 in labels with no predicted samples. Use `zero_division` parameter to control this behavior.\n",
      "  _warn_prf(average, modifier, msg_start, len(result))\n",
      "/home/fb198/anaconda3/lib/python3.9/site-packages/sklearn/metrics/_classification.py:1248: UndefinedMetricWarning: Precision and F-score are ill-defined and being set to 0.0 in samples with no predicted labels. Use `zero_division` parameter to control this behavior.\n",
      "  _warn_prf(average, modifier, msg_start, len(result))\n"
     ]
    }
   ],
   "source": [
    "print(classification_report(trues_binarized, tags_list)) #, output_dict=True\n",
    " "
   ]
  },
  {
   "cell_type": "code",
   "execution_count": 198,
   "id": "4d6c3b38",
   "metadata": {},
   "outputs": [
    {
     "data": {
      "text/plain": [
       "0.8272916840944523"
      ]
     },
     "execution_count": 198,
     "metadata": {},
     "output_type": "execute_result"
    }
   ],
   "source": [
    "from sklearn.metrics import average_precision_score\n",
    "from sklearn.metrics import precision_recall_curve\n",
    "average_precision_score(trues_binarized, tags_list, average=\"micro\")"
   ]
  },
  {
   "cell_type": "code",
   "execution_count": null,
   "id": "d12a0309",
   "metadata": {},
   "outputs": [],
   "source": [
    "#Calculate Samples Precision¶\n",
    "for i in range (len(y_true)):\n",
    "  p= metrics.precision_score(y_true[i,:], y_pred[i,:])\n",
    "  totalPrecision+=p\n",
    "  print(\"For Sample {} precision: {:.2f} \".format(y_true[i,:], p ))\n",
    "print(\"Sample Precision: {:.2f}\".format(totalPrecision/len(y_true)))"
   ]
  },
  {
   "cell_type": "code",
   "execution_count": null,
   "id": "d41509b8",
   "metadata": {},
   "outputs": [],
   "source": [
    "#In multi-label classification, the roc_auc_score function is extended by averaging over the labels as above.\n",
    "\n"
   ]
  },
  {
   "cell_type": "code",
   "execution_count": 208,
   "id": "df7980b4",
   "metadata": {},
   "outputs": [
    {
     "name": "stdout",
     "output_type": "stream",
     "text": [
      "Average precision score, micro-averaged over all classes: 0.83\n"
     ]
    }
   ],
   "source": [
    "# For each class\n",
    "precision = dict()\n",
    "recall = dict()\n",
    "average_precision = dict()\n",
    "for i in range(n_classes):\n",
    "    precision[i], recall[i], _ = precision_recall_curve(trues_binarized[:, i],\n",
    "                                                        tags_list[:, i])\n",
    "    average_precision[i] = average_precision_score(trues_binarized[:, i], tags_list[:, i])\n",
    "\n",
    "# A \"micro-average\": quantifying score on all classes jointly\n",
    "precision[\"micro\"], recall[\"micro\"], _ = precision_recall_curve(trues_binarized.ravel(),\n",
    "    tags_list.ravel())\n",
    "average_precision[\"micro\"] = average_precision_score(trues_binarized, tags_list,\n",
    "                                                     average=\"micro\")\n",
    "print('Average precision score, micro-averaged over all classes: {0:0.2f}'\n",
    "      .format(average_precision[\"micro\"]))"
   ]
  },
  {
   "cell_type": "code",
   "execution_count": 209,
   "id": "e06dcb3d",
   "metadata": {},
   "outputs": [
    {
     "data": {
      "text/plain": [
       "{0: 0.03,\n",
       " 1: 0.7937777777777778,\n",
       " 2: 0.6808164922025208,\n",
       " 3: 0.8864171877505211,\n",
       " 4: 0.6882626262626264,\n",
       " 5: 0.9881656804733728,\n",
       " 6: 0.9460787942887361,\n",
       " 'micro': 0.8272916840944523}"
      ]
     },
     "execution_count": 209,
     "metadata": {},
     "output_type": "execute_result"
    }
   ],
   "source": [
    "precision\n",
    "average_precision"
   ]
  },
  {
   "cell_type": "code",
   "execution_count": 207,
   "id": "388c0a29",
   "metadata": {},
   "outputs": [
    {
     "name": "stdout",
     "output_type": "stream",
     "text": [
      "average_precision {0: 0.03, 1: 0.7937777777777778, 2: 0.6808164922025208, 3: 0.8864171877505211, 4: 0.6882626262626264, 5: 0.9881656804733728, 6: 0.9460787942887361} \n"
     ]
    }
   ],
   "source": [
    "average_precision_ = dict()\n",
    "\n",
    "for i in range(n_classes):\n",
    "    precision[i], recall[i], _ = precision_recall_curve(trues_binarized[:, i], tags_list[:, i])\n",
    "    average_precision_[i] =average_precision_score(trues_binarized[:, i], tags_list[:, i])\n",
    "\n",
    "print (\"average_precision {} \".format(average_precision_))"
   ]
  },
  {
   "cell_type": "code",
   "execution_count": 223,
   "id": "eadb8f44",
   "metadata": {},
   "outputs": [
    {
     "data": {
      "text/plain": [
       "array([[0, 0, 0, ..., 1, 0, 1],\n",
       "       [0, 0, 1, ..., 0, 1, 0],\n",
       "       [0, 0, 1, ..., 0, 0, 0],\n",
       "       ...,\n",
       "       [0, 0, 1, ..., 0, 0, 0],\n",
       "       [0, 0, 0, ..., 0, 0, 1],\n",
       "       [0, 0, 1, ..., 0, 1, 0]])"
      ]
     },
     "execution_count": 223,
     "metadata": {},
     "output_type": "execute_result"
    }
   ],
   "source": [
    "trues_binarized"
   ]
  },
  {
   "cell_type": "code",
   "execution_count": 224,
   "id": "b36d74ea",
   "metadata": {},
   "outputs": [
    {
     "ename": "ValueError",
     "evalue": "multiclass format is not supported",
     "output_type": "error",
     "traceback": [
      "\u001b[0;31m---------------------------------------------------------------------------\u001b[0m",
      "\u001b[0;31mValueError\u001b[0m                                Traceback (most recent call last)",
      "\u001b[0;32m/tmp/ipykernel_426133/3505354568.py\u001b[0m in \u001b[0;36m<cell line: 5>\u001b[0;34m()\u001b[0m\n\u001b[1;32m      3\u001b[0m \u001b[0mrecal_dict\u001b[0m \u001b[0;34m=\u001b[0m \u001b[0mdict\u001b[0m\u001b[0;34m(\u001b[0m\u001b[0;34m)\u001b[0m\u001b[0;34m\u001b[0m\u001b[0;34m\u001b[0m\u001b[0m\n\u001b[1;32m      4\u001b[0m \u001b[0mavg_dict\u001b[0m \u001b[0;34m=\u001b[0m \u001b[0mdict\u001b[0m\u001b[0;34m(\u001b[0m\u001b[0;34m)\u001b[0m\u001b[0;34m\u001b[0m\u001b[0;34m\u001b[0m\u001b[0m\n\u001b[0;32m----> 5\u001b[0;31m pres_dict[\"micro\"], recal_dict[\"micro\"], _ = precision_recall_curve(converted_trues_binarized.ravel(),\n\u001b[0m\u001b[1;32m      6\u001b[0m     converted_tag.ravel())\n\u001b[1;32m      7\u001b[0m \u001b[0mavg_dict\u001b[0m\u001b[0;34m[\u001b[0m\u001b[0;34m\"None\"\u001b[0m\u001b[0;34m]\u001b[0m \u001b[0;34m=\u001b[0m \u001b[0maverage_precision_score\u001b[0m\u001b[0;34m(\u001b[0m\u001b[0mtrues_binarized\u001b[0m\u001b[0;34m,\u001b[0m \u001b[0mtags_list\u001b[0m\u001b[0;34m,\u001b[0m \u001b[0maverage\u001b[0m\u001b[0;34m=\u001b[0m\u001b[0;32mNone\u001b[0m\u001b[0;34m)\u001b[0m\u001b[0;34m\u001b[0m\u001b[0;34m\u001b[0m\u001b[0m\n",
      "\u001b[0;32m~/anaconda3/lib/python3.9/site-packages/sklearn/utils/validation.py\u001b[0m in \u001b[0;36minner_f\u001b[0;34m(*args, **kwargs)\u001b[0m\n\u001b[1;32m     61\u001b[0m             \u001b[0mextra_args\u001b[0m \u001b[0;34m=\u001b[0m \u001b[0mlen\u001b[0m\u001b[0;34m(\u001b[0m\u001b[0margs\u001b[0m\u001b[0;34m)\u001b[0m \u001b[0;34m-\u001b[0m \u001b[0mlen\u001b[0m\u001b[0;34m(\u001b[0m\u001b[0mall_args\u001b[0m\u001b[0;34m)\u001b[0m\u001b[0;34m\u001b[0m\u001b[0;34m\u001b[0m\u001b[0m\n\u001b[1;32m     62\u001b[0m             \u001b[0;32mif\u001b[0m \u001b[0mextra_args\u001b[0m \u001b[0;34m<=\u001b[0m \u001b[0;36m0\u001b[0m\u001b[0;34m:\u001b[0m\u001b[0;34m\u001b[0m\u001b[0;34m\u001b[0m\u001b[0m\n\u001b[0;32m---> 63\u001b[0;31m                 \u001b[0;32mreturn\u001b[0m \u001b[0mf\u001b[0m\u001b[0;34m(\u001b[0m\u001b[0;34m*\u001b[0m\u001b[0margs\u001b[0m\u001b[0;34m,\u001b[0m \u001b[0;34m**\u001b[0m\u001b[0mkwargs\u001b[0m\u001b[0;34m)\u001b[0m\u001b[0;34m\u001b[0m\u001b[0;34m\u001b[0m\u001b[0m\n\u001b[0m\u001b[1;32m     64\u001b[0m \u001b[0;34m\u001b[0m\u001b[0m\n\u001b[1;32m     65\u001b[0m             \u001b[0;31m# extra_args > 0\u001b[0m\u001b[0;34m\u001b[0m\u001b[0;34m\u001b[0m\u001b[0m\n",
      "\u001b[0;32m~/anaconda3/lib/python3.9/site-packages/sklearn/metrics/_ranking.py\u001b[0m in \u001b[0;36mprecision_recall_curve\u001b[0;34m(y_true, probas_pred, pos_label, sample_weight)\u001b[0m\n\u001b[1;32m    809\u001b[0m \u001b[0;34m\u001b[0m\u001b[0m\n\u001b[1;32m    810\u001b[0m     \"\"\"\n\u001b[0;32m--> 811\u001b[0;31m     fps, tps, thresholds = _binary_clf_curve(y_true, probas_pred,\n\u001b[0m\u001b[1;32m    812\u001b[0m                                              \u001b[0mpos_label\u001b[0m\u001b[0;34m=\u001b[0m\u001b[0mpos_label\u001b[0m\u001b[0;34m,\u001b[0m\u001b[0;34m\u001b[0m\u001b[0;34m\u001b[0m\u001b[0m\n\u001b[1;32m    813\u001b[0m                                              sample_weight=sample_weight)\n",
      "\u001b[0;32m~/anaconda3/lib/python3.9/site-packages/sklearn/metrics/_ranking.py\u001b[0m in \u001b[0;36m_binary_clf_curve\u001b[0;34m(y_true, y_score, pos_label, sample_weight)\u001b[0m\n\u001b[1;32m    689\u001b[0m     if not (y_type == \"binary\" or\n\u001b[1;32m    690\u001b[0m             (y_type == \"multiclass\" and pos_label is not None)):\n\u001b[0;32m--> 691\u001b[0;31m         \u001b[0;32mraise\u001b[0m \u001b[0mValueError\u001b[0m\u001b[0;34m(\u001b[0m\u001b[0;34m\"{0} format is not supported\"\u001b[0m\u001b[0;34m.\u001b[0m\u001b[0mformat\u001b[0m\u001b[0;34m(\u001b[0m\u001b[0my_type\u001b[0m\u001b[0;34m)\u001b[0m\u001b[0;34m)\u001b[0m\u001b[0;34m\u001b[0m\u001b[0;34m\u001b[0m\u001b[0m\n\u001b[0m\u001b[1;32m    692\u001b[0m \u001b[0;34m\u001b[0m\u001b[0m\n\u001b[1;32m    693\u001b[0m     \u001b[0mcheck_consistent_length\u001b[0m\u001b[0;34m(\u001b[0m\u001b[0my_true\u001b[0m\u001b[0;34m,\u001b[0m \u001b[0my_score\u001b[0m\u001b[0;34m,\u001b[0m \u001b[0msample_weight\u001b[0m\u001b[0;34m)\u001b[0m\u001b[0;34m\u001b[0m\u001b[0;34m\u001b[0m\u001b[0m\n",
      "\u001b[0;31mValueError\u001b[0m: multiclass format is not supported"
     ]
    }
   ],
   "source": [
    "# A \"micro-average\": quantifying score on all classes jointly\n",
    "pres_dict = dict()\n",
    "recal_dict = dict()\n",
    "avg_dict = dict()\n",
    "pres_dict[\"micro\"], recal_dict[\"micro\"], _ = precision_recall_curve(trues_binarized.ravel(),\n",
    "    tags_list.ravel())\n",
    "avg_dict[\"None\"] = average_precision_score(trues_binarized, tags_list, average=None)\n",
    "avg_dict[\"Void\"] = average_precision_score(trues_binarized, tags_list)\n",
    "avg_dict[\"micro\"] = average_precision_score(trues_binarized, tags_list, average=\"micro\")\n",
    "avg_dict[\"macro\"] = average_precision_score(trues_binarized, tags_list, average=\"macro\")\n",
    "avg_dict[\"samples\"] = average_precision_score(trues_binarized, tags_list, average=\"samples\")\n",
    "avg_dict[\"weighted\"] = average_precision_score(trues_binarized, tags_list, average=\"weighted\")\n",
    "\n",
    "#print('Average precision score, micro-averaged over all classes: {0:0.2f}'.format(average_precision[\"micro\"]))\n",
    "    \n",
    "avg_dict"
   ]
  },
  {
   "cell_type": "code",
   "execution_count": 221,
   "id": "bf27b391",
   "metadata": {},
   "outputs": [
    {
     "data": {
      "text/plain": [
       "{'micro': array([0.21371429, 0.94570136, 1.        ])}"
      ]
     },
     "execution_count": 221,
     "metadata": {},
     "output_type": "execute_result"
    }
   ],
   "source": []
  },
  {
   "cell_type": "code",
   "execution_count": 213,
   "id": "577add53",
   "metadata": {},
   "outputs": [
    {
     "data": {
      "text/plain": [
       "Text(0.5, 1.0, 'Average precision score, micro-averaged over all classes: AP=0.83')"
      ]
     },
     "execution_count": 213,
     "metadata": {},
     "output_type": "execute_result"
    },
    {
     "data": {
      "image/png": "[encoded data removed]",
      "text/plain": [
       "<Figure size 432x288 with 1 Axes>"
      ]
     },
     "metadata": {
      "needs_background": "light"
     },
     "output_type": "display_data"
    }
   ],
   "source": [
    "plt.figure()\n",
    "plt.step(recal_dict['micro'], pres_dict['micro'], where='post')\n",
    "\n",
    "plt.xlabel('Recall')\n",
    "plt.ylabel('Precision')\n",
    "plt.ylim([0.0, 1.05])\n",
    "plt.xlim([0.0, 1.0])\n",
    "plt.title(\n",
    "    'Average precision score, micro-averaged over all classes: AP={0:0.2f}'\n",
    "    .format(avg_dict[\"micro\"]))"
   ]
  },
  {
   "cell_type": "code",
   "execution_count": 215,
   "id": "55e1005a",
   "metadata": {},
   "outputs": [
    {
     "data": {
      "text/plain": [
       "array([1.        , 0.83823529, 0.        ])"
      ]
     },
     "execution_count": 215,
     "metadata": {},
     "output_type": "execute_result"
    }
   ],
   "source": [
    "recal_dict['micro']"
   ]
  },
  {
   "cell_type": "code",
   "execution_count": 222,
   "id": "5112860a",
   "metadata": {},
   "outputs": [
    {
     "data": {
      "text/plain": [
       "array([0.21371429, 0.94570136, 1.        ])"
      ]
     },
     "execution_count": 222,
     "metadata": {},
     "output_type": "execute_result"
    }
   ],
   "source": [
    "pres_dict['micro']"
   ]
  },
  {
   "cell_type": "code",
   "execution_count": 239,
   "id": "f4aa4364",
   "metadata": {},
   "outputs": [
    {
     "data": {
      "text/plain": [
       "(0.9551428571428572, 0.9551428571428572, 0.9551428571428573, None)"
      ]
     },
     "execution_count": 239,
     "metadata": {},
     "output_type": "execute_result"
    }
   ],
   "source": [
    "from sklearn import metrics\n",
    "x = metrics.precision_recall_fscore_support(converted_trues_binarized.ravel(),\n",
    "    converted_tag.ravel(), beta=0.5, average='micro')\n",
    "x"
   ]
  },
  {
   "cell_type": "code",
   "execution_count": 234,
   "id": "84c3c630",
   "metadata": {},
   "outputs": [
    {
     "data": {
      "text/plain": [
       "{0, 1, 2, 3, 4, 5, 6, 7}"
      ]
     },
     "execution_count": 234,
     "metadata": {},
     "output_type": "execute_result"
    }
   ],
   "source": [
    "set((converted_trues_binarized.ravel()))"
   ]
  },
  {
   "cell_type": "code",
   "execution_count": 238,
   "id": "a62fb747",
   "metadata": {},
   "outputs": [
    {
     "data": {
      "text/plain": [
       "array([0.96312057, 0.99051008, 0.97222222, 0.86834734, 0.8114374 ,\n",
       "       0.94594595, 0.        , 0.93830334])"
      ]
     },
     "execution_count": 238,
     "metadata": {},
     "output_type": "execute_result"
    }
   ],
   "source": [
    "x = np.asarray(x)\n",
    "x[2]"
   ]
  },
  {
   "cell_type": "code",
   "execution_count": 241,
   "id": "23e5939e",
   "metadata": {},
   "outputs": [
    {
     "data": {
      "text/plain": [
       "(0.9551428571428572, 0.04485714285714286)"
      ]
     },
     "execution_count": 241,
     "metadata": {},
     "output_type": "execute_result"
    }
   ],
   "source": [
    "br_f1=metrics.f1_score(converted_trues_binarized.ravel(),converted_tag.ravel(), average='micro')\n",
    "br_hamm=metrics.hamming_loss(converted_trues_binarized.ravel(), converted_tag.ravel())\n",
    "br_f1, br_hamm\n"
   ]
  }
 ],
 "metadata": {
  "kernelspec": {
   "display_name": "Python 3 (ipykernel)",
   "language": "python",
   "name": "python3"
  },
  "language_info": {
   "codemirror_mode": {
    "name": "ipython",
    "version": 3
   },
   "file_extension": ".py",
   "mimetype": "text/x-python",
   "name": "python",
   "nbconvert_exporter": "python",
   "pygments_lexer": "ipython3",
   "version": "3.9.12"
  }
 },
 "nbformat": 4,
 "nbformat_minor": 5
}
